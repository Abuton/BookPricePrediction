{
 "cells": [
  {
   "cell_type": "code",
   "execution_count": 1,
   "metadata": {},
   "outputs": [],
   "source": [
    "import findspark\n",
    "findspark.init()\n",
    "\n",
    "# Import SparkSession from pyspark.sql\n",
    "from pyspark.sql import SparkSession\n",
    "from pyspark import SparkContext, SparkConf\n",
    "\n",
    "sc = SparkContext.getOrCreate(SparkConf().setMaster(\"local[*]\"))\n",
    "\n",
    "spark = SparkSession.builder.getOrCreate()"
   ]
  },
  {
   "cell_type": "code",
   "execution_count": 2,
   "metadata": {},
   "outputs": [
    {
     "name": "stdout",
     "output_type": "stream",
     "text": [
      "2.4.4\n"
     ]
    }
   ],
   "source": [
    "print(spark.version)"
   ]
  },
  {
   "cell_type": "code",
   "execution_count": 3,
   "metadata": {},
   "outputs": [
    {
     "name": "stdout",
     "output_type": "stream",
     "text": [
      "2.4.4\n"
     ]
    }
   ],
   "source": [
    "print(sc.version)"
   ]
  },
  {
   "cell_type": "code",
   "execution_count": 4,
   "metadata": {},
   "outputs": [
    {
     "name": "stdout",
     "output_type": "stream",
     "text": [
      "[]\n"
     ]
    }
   ],
   "source": [
    "print(spark.catalog.listTables())"
   ]
  },
  {
   "cell_type": "code",
   "execution_count": 5,
   "metadata": {},
   "outputs": [
    {
     "data": {
      "text/html": [
       "<div>\n",
       "<style scoped>\n",
       "    .dataframe tbody tr th:only-of-type {\n",
       "        vertical-align: middle;\n",
       "    }\n",
       "\n",
       "    .dataframe tbody tr th {\n",
       "        vertical-align: top;\n",
       "    }\n",
       "\n",
       "    .dataframe thead th {\n",
       "        text-align: right;\n",
       "    }\n",
       "</style>\n",
       "<table border=\"1\" class=\"dataframe\">\n",
       "  <thead>\n",
       "    <tr style=\"text-align: right;\">\n",
       "      <th></th>\n",
       "      <th>Title</th>\n",
       "      <th>Author</th>\n",
       "      <th>Edition</th>\n",
       "      <th>Reviews</th>\n",
       "      <th>Ratings</th>\n",
       "      <th>Synopsis</th>\n",
       "      <th>Genre</th>\n",
       "      <th>BookCategory</th>\n",
       "      <th>Price</th>\n",
       "    </tr>\n",
       "  </thead>\n",
       "  <tbody>\n",
       "    <tr>\n",
       "      <th>0</th>\n",
       "      <td>The Prisoner's Gold (The Hunters 3)</td>\n",
       "      <td>Chris Kuzneski</td>\n",
       "      <td>Paperback,– 10 Mar 2016</td>\n",
       "      <td>4.0 out of 5 stars</td>\n",
       "      <td>8 customer reviews</td>\n",
       "      <td>THE HUNTERS return in their third brilliant no...</td>\n",
       "      <td>Action &amp; Adventure (Books)</td>\n",
       "      <td>Action &amp; Adventure</td>\n",
       "      <td>220.00</td>\n",
       "    </tr>\n",
       "    <tr>\n",
       "      <th>1</th>\n",
       "      <td>Guru Dutt: A Tragedy in Three Acts</td>\n",
       "      <td>Arun Khopkar</td>\n",
       "      <td>Paperback,– 7 Nov 2012</td>\n",
       "      <td>3.9 out of 5 stars</td>\n",
       "      <td>14 customer reviews</td>\n",
       "      <td>A layered portrait of a troubled genius for wh...</td>\n",
       "      <td>Cinema &amp; Broadcast (Books)</td>\n",
       "      <td>Biographies, Diaries &amp; True Accounts</td>\n",
       "      <td>202.93</td>\n",
       "    </tr>\n",
       "    <tr>\n",
       "      <th>2</th>\n",
       "      <td>Leviathan (Penguin Classics)</td>\n",
       "      <td>Thomas Hobbes</td>\n",
       "      <td>Paperback,– 25 Feb 1982</td>\n",
       "      <td>4.8 out of 5 stars</td>\n",
       "      <td>6 customer reviews</td>\n",
       "      <td>\"During the time men live without a common Pow...</td>\n",
       "      <td>International Relations</td>\n",
       "      <td>Humour</td>\n",
       "      <td>299.00</td>\n",
       "    </tr>\n",
       "    <tr>\n",
       "      <th>3</th>\n",
       "      <td>A Pocket Full of Rye (Miss Marple)</td>\n",
       "      <td>Agatha Christie</td>\n",
       "      <td>Paperback,– 5 Oct 2017</td>\n",
       "      <td>4.1 out of 5 stars</td>\n",
       "      <td>13 customer reviews</td>\n",
       "      <td>A handful of grain is found in the pocket of a...</td>\n",
       "      <td>Contemporary Fiction (Books)</td>\n",
       "      <td>Crime, Thriller &amp; Mystery</td>\n",
       "      <td>180.00</td>\n",
       "    </tr>\n",
       "    <tr>\n",
       "      <th>4</th>\n",
       "      <td>LIFE 70 Years of Extraordinary Photography</td>\n",
       "      <td>Editors of Life</td>\n",
       "      <td>Hardcover,– 10 Oct 2006</td>\n",
       "      <td>5.0 out of 5 stars</td>\n",
       "      <td>1 customer review</td>\n",
       "      <td>For seven decades, \"Life\" has been thrilling t...</td>\n",
       "      <td>Photography Textbooks</td>\n",
       "      <td>Arts, Film &amp; Photography</td>\n",
       "      <td>965.62</td>\n",
       "    </tr>\n",
       "  </tbody>\n",
       "</table>\n",
       "</div>"
      ],
      "text/plain": [
       "                                        Title           Author  \\\n",
       "0         The Prisoner's Gold (The Hunters 3)   Chris Kuzneski   \n",
       "1          Guru Dutt: A Tragedy in Three Acts     Arun Khopkar   \n",
       "2                Leviathan (Penguin Classics)    Thomas Hobbes   \n",
       "3          A Pocket Full of Rye (Miss Marple)  Agatha Christie   \n",
       "4  LIFE 70 Years of Extraordinary Photography  Editors of Life   \n",
       "\n",
       "                   Edition             Reviews              Ratings  \\\n",
       "0  Paperback,– 10 Mar 2016  4.0 out of 5 stars   8 customer reviews   \n",
       "1   Paperback,– 7 Nov 2012  3.9 out of 5 stars  14 customer reviews   \n",
       "2  Paperback,– 25 Feb 1982  4.8 out of 5 stars   6 customer reviews   \n",
       "3   Paperback,– 5 Oct 2017  4.1 out of 5 stars  13 customer reviews   \n",
       "4  Hardcover,– 10 Oct 2006  5.0 out of 5 stars    1 customer review   \n",
       "\n",
       "                                            Synopsis  \\\n",
       "0  THE HUNTERS return in their third brilliant no...   \n",
       "1  A layered portrait of a troubled genius for wh...   \n",
       "2  \"During the time men live without a common Pow...   \n",
       "3  A handful of grain is found in the pocket of a...   \n",
       "4  For seven decades, \"Life\" has been thrilling t...   \n",
       "\n",
       "                          Genre                          BookCategory   Price  \n",
       "0    Action & Adventure (Books)                    Action & Adventure  220.00  \n",
       "1    Cinema & Broadcast (Books)  Biographies, Diaries & True Accounts  202.93  \n",
       "2       International Relations                                Humour  299.00  \n",
       "3  Contemporary Fiction (Books)             Crime, Thriller & Mystery  180.00  \n",
       "4         Photography Textbooks              Arts, Film & Photography  965.62  "
      ]
     },
     "execution_count": 5,
     "metadata": {},
     "output_type": "execute_result"
    }
   ],
   "source": [
    "import pandas as pd\n",
    "pd_df_train = pd.read_excel('Data_Train.xlsx')\n",
    "pd_df_test = pd.read_excel('Data_Test.xlsx')\n",
    "\n",
    "pd_df_train.head()"
   ]
  },
  {
   "cell_type": "markdown",
   "metadata": {},
   "source": [
    "Convert the data to a Spark DataFrame using the .createDataFrame() method"
   ]
  },
  {
   "cell_type": "code",
   "execution_count": 7,
   "metadata": {},
   "outputs": [
    {
     "name": "stdout",
     "output_type": "stream",
     "text": [
      "<SparkContext master=local[*] appName=pyspark-shell>\n"
     ]
    }
   ],
   "source": [
    "print(sc)"
   ]
  },
  {
   "cell_type": "code",
   "execution_count": 8,
   "metadata": {},
   "outputs": [
    {
     "name": "stdout",
     "output_type": "stream",
     "text": [
      "+--------------------+--------------------+--------------------+------------------+--------------------+--------------------+--------------------+--------------------+------+\n",
      "|               Title|              Author|             Edition|           Reviews|             Ratings|            Synopsis|               Genre|        BookCategory| Price|\n",
      "+--------------------+--------------------+--------------------+------------------+--------------------+--------------------+--------------------+--------------------+------+\n",
      "|The Prisoner's Go...|      Chris Kuzneski|Paperback,– 10 Ma...|4.0 out of 5 stars|  8 customer reviews|THE HUNTERS retur...|Action & Adventur...|  Action & Adventure| 220.0|\n",
      "|Guru Dutt: A Trag...|        Arun Khopkar|Paperback,– 7 Nov...|3.9 out of 5 stars| 14 customer reviews|A layered portrai...|Cinema & Broadcas...|Biographies, Diar...|202.93|\n",
      "|Leviathan (Pengui...|       Thomas Hobbes|Paperback,– 25 Fe...|4.8 out of 5 stars|  6 customer reviews|\"During the time ...|International Rel...|              Humour| 299.0|\n",
      "|A Pocket Full of ...|     Agatha Christie|Paperback,– 5 Oct...|4.1 out of 5 stars| 13 customer reviews|A handful of grai...|Contemporary Fict...|Crime, Thriller &...| 180.0|\n",
      "|LIFE 70 Years of ...|     Editors of Life|Hardcover,– 10 Oc...|5.0 out of 5 stars|   1 customer review|For seven decades...|Photography Textb...|Arts, Film & Phot...|965.62|\n",
      "|ChiRunning: A Rev...|        Danny Dreyer|Paperback,– 5 May...|4.5 out of 5 stars|  8 customer reviews|The revised editi...|Healthy Living & ...|              Sports| 900.0|\n",
      "|Death on the Nile...|     Agatha Christie|Paperback,– 5 Oct...|4.4 out of 5 stars| 72 customer reviews|Agatha Christie’s...|Crime, Thriller &...|Crime, Thriller &...| 224.0|\n",
      "|Yoga Your Home Pr...|Sivananda Yoga Ve...|Hardcover,– Impor...|4.7 out of 5 stars| 16 customer reviews|Achieve a healthy...|Sports Training &...|              Sports| 836.0|\n",
      "|Karmayogi: A Biog...|         M S Ashokan|Paperback,– 15 De...|4.2 out of 5 stars|111 customer reviews|Karmayogi is the ...|Biographies & Aut...|Biographies, Diar...| 130.0|\n",
      "|The Iron King (Th...|       Maurice Druon|Paperback,– 26 Ma...|4.0 out of 5 stars|   1 customer review|‘This is the orig...|Action & Adventur...|  Action & Adventure| 695.0|\n",
      "+--------------------+--------------------+--------------------+------------------+--------------------+--------------------+--------------------+--------------------+------+\n",
      "only showing top 10 rows\n",
      "\n"
     ]
    }
   ],
   "source": [
    "spark_df_train = spark.createDataFrame(pd_df_train)\n",
    "spark_df_test = spark.createDataFrame(pd_df_test)\n",
    "\n",
    "spark_df_train.show(10)"
   ]
  },
  {
   "cell_type": "code",
   "execution_count": 9,
   "metadata": {},
   "outputs": [
    {
     "name": "stdout",
     "output_type": "stream",
     "text": [
      "[]\n"
     ]
    }
   ],
   "source": [
    "print(spark.catalog.listTables())"
   ]
  },
  {
   "cell_type": "markdown",
   "metadata": {},
   "source": [
    "Still nothing in the table list why? no table has been added yet\n",
    "\n",
    "I'll add one now"
   ]
  },
  {
   "cell_type": "code",
   "execution_count": 10,
   "metadata": {},
   "outputs": [],
   "source": [
    "# Add spark_df_train to the catalog\n",
    "spark_df_train.createOrReplaceTempView(\"temp\")"
   ]
  },
  {
   "cell_type": "code",
   "execution_count": 11,
   "metadata": {},
   "outputs": [
    {
     "name": "stdout",
     "output_type": "stream",
     "text": [
      "[Table(name='temp', database=None, description=None, tableType='TEMPORARY', isTemporary=True)]\n"
     ]
    }
   ],
   "source": [
    "print(spark.catalog.listTables())"
   ]
  },
  {
   "cell_type": "markdown",
   "metadata": {},
   "source": [
    "One question is why going through pandas when ultimately what yiu want is spark\n",
    "\n",
    "Well ask no more Spark has a .read attribute which has several methods of reading diffrent sources of data into a spark Dataframe\n",
    "\n",
    "Now Trying the .read"
   ]
  },
  {
   "cell_type": "code",
   "execution_count": 14,
   "metadata": {},
   "outputs": [],
   "source": [
    "train_data = spark.read.csv('Data_Train.xlsx', header=True)"
   ]
  },
  {
   "cell_type": "markdown",
   "metadata": {},
   "source": [
    "Since the data is in excel and spark has no option for excel, converting to a csv will be the best best"
   ]
  },
  {
   "cell_type": "code",
   "execution_count": 16,
   "metadata": {},
   "outputs": [
    {
     "name": "stdout",
     "output_type": "stream",
     "text": [
      "+--------------------+---------------+--------------------+------------------+-------------------+--------------------+--------------------+--------------------+------+\n",
      "|               Title|         Author|             Edition|           Reviews|            Ratings|            Synopsis|               Genre|        BookCategory| Price|\n",
      "+--------------------+---------------+--------------------+------------------+-------------------+--------------------+--------------------+--------------------+------+\n",
      "|The Prisoner's Go...| Chris Kuzneski|Paperback,– 10 Ma...|4.0 out of 5 stars| 8 customer reviews|THE HUNTERS retur...|Action & Adventur...|  Action & Adventure| 220.0|\n",
      "|Guru Dutt: A Trag...|   Arun Khopkar|Paperback,– 7 Nov...|3.9 out of 5 stars|14 customer reviews|A layered portrai...|Cinema & Broadcas...|Biographies, Diar...|202.93|\n",
      "|Leviathan (Pengui...|  Thomas Hobbes|Paperback,– 25 Fe...|4.8 out of 5 stars| 6 customer reviews|\"During the time ...|International Rel...|              Humour| 299.0|\n",
      "|A Pocket Full of ...|Agatha Christie|Paperback,– 5 Oct...|4.1 out of 5 stars|13 customer reviews|A handful of grai...|Contemporary Fict...|Crime, Thriller &...| 180.0|\n",
      "|LIFE 70 Years of ...|Editors of Life|Hardcover,– 10 Oc...|5.0 out of 5 stars|  1 customer review|For seven decades...|Photography Textb...|Arts, Film & Phot...|965.62|\n",
      "+--------------------+---------------+--------------------+------------------+-------------------+--------------------+--------------------+--------------------+------+\n",
      "only showing top 5 rows\n",
      "\n"
     ]
    }
   ],
   "source": [
    "spark_df_train.show(5)"
   ]
  },
  {
   "cell_type": "markdown",
   "metadata": {},
   "source": [
    "Creating columns\n",
    "\n",
    " In Spark you can do this using the .withColumn() method, which takes two arguments. First, a string with the name of your new column, and second the new column itself. Quite different from pandas NO?"
   ]
  },
  {
   "cell_type": "markdown",
   "metadata": {},
   "source": [
    "I'll be creating a new column from Reviews. I'll extract the actual review score from the column review"
   ]
  },
  {
   "cell_type": "code",
   "execution_count": 24,
   "metadata": {
    "collapsed": true
   },
   "outputs": [
    {
     "ename": "TypeError",
     "evalue": "'Column' object is not callable",
     "output_type": "error",
     "traceback": [
      "\u001b[1;31m---------------------------------------------------------------------------\u001b[0m",
      "\u001b[1;31mTypeError\u001b[0m                                 Traceback (most recent call last)",
      "\u001b[1;32m<ipython-input-24-9bcdac6d9e8a>\u001b[0m in \u001b[0;36m<module>\u001b[1;34m\u001b[0m\n\u001b[0;32m      1\u001b[0m \u001b[1;32mimport\u001b[0m \u001b[0mpyspark\u001b[0m\u001b[1;33m.\u001b[0m\u001b[0msql\u001b[0m\u001b[1;33m.\u001b[0m\u001b[0mfunctions\u001b[0m \u001b[1;32mas\u001b[0m \u001b[0mF\u001b[0m\u001b[1;33m\u001b[0m\u001b[1;33m\u001b[0m\u001b[0m\n\u001b[1;32m----> 2\u001b[1;33m \u001b[0mspark_df_train\u001b[0m \u001b[1;33m=\u001b[0m \u001b[0mspark_df_train\u001b[0m\u001b[1;33m.\u001b[0m\u001b[0mwithColumn\u001b[0m\u001b[1;33m(\u001b[0m\u001b[1;34m\"ReviewScore\"\u001b[0m\u001b[1;33m,\u001b[0m \u001b[0mF\u001b[0m\u001b[1;33m.\u001b[0m\u001b[0mcol\u001b[0m\u001b[1;33m(\u001b[0m\u001b[1;34m'Reviews'\u001b[0m\u001b[1;33m)\u001b[0m\u001b[1;33m.\u001b[0m\u001b[0mstr\u001b[0m\u001b[1;33m.\u001b[0m\u001b[0msplit\u001b[0m\u001b[1;33m(\u001b[0m\u001b[1;33m)\u001b[0m\u001b[1;33m[\u001b[0m\u001b[1;36m0\u001b[0m\u001b[1;33m]\u001b[0m\u001b[1;33m)\u001b[0m\u001b[1;33m\u001b[0m\u001b[1;33m\u001b[0m\u001b[0m\n\u001b[0m",
      "\u001b[1;31mTypeError\u001b[0m: 'Column' object is not callable"
     ]
    }
   ],
   "source": [
    "import pyspark.sql.functions as F\n",
    "spark_df_train = spark_df_train.withColumn(\"ReviewScore\", F.col('Reviews').str.split()[0])"
   ]
  },
  {
   "cell_type": "markdown",
   "metadata": {},
   "source": [
    "Since i am facing lots of errors now, the manipulation of dataframe will be done with pandas and then converted back to spqrk df"
   ]
  },
  {
   "cell_type": "markdown",
   "metadata": {},
   "source": [
    "Also, A Machine Learning model will be built to predict price of a book"
   ]
  },
  {
   "cell_type": "code",
   "execution_count": 86,
   "metadata": {},
   "outputs": [
    {
     "data": {
      "text/plain": [
       "(7797, 9)"
      ]
     },
     "execution_count": 86,
     "metadata": {},
     "output_type": "execute_result"
    }
   ],
   "source": [
    "df = pd.concat([pd_df_train, pd_df_test], ignore_index=False)\n",
    "df.shape"
   ]
  },
  {
   "cell_type": "code",
   "execution_count": 76,
   "metadata": {},
   "outputs": [
    {
     "data": {
      "text/html": [
       "<div>\n",
       "<style scoped>\n",
       "    .dataframe tbody tr th:only-of-type {\n",
       "        vertical-align: middle;\n",
       "    }\n",
       "\n",
       "    .dataframe tbody tr th {\n",
       "        vertical-align: top;\n",
       "    }\n",
       "\n",
       "    .dataframe thead th {\n",
       "        text-align: right;\n",
       "    }\n",
       "</style>\n",
       "<table border=\"1\" class=\"dataframe\">\n",
       "  <thead>\n",
       "    <tr style=\"text-align: right;\">\n",
       "      <th></th>\n",
       "      <th>Title</th>\n",
       "      <th>Author</th>\n",
       "      <th>Edition</th>\n",
       "      <th>Reviews</th>\n",
       "      <th>Ratings</th>\n",
       "      <th>Synopsis</th>\n",
       "      <th>Genre</th>\n",
       "      <th>BookCategory</th>\n",
       "      <th>Price</th>\n",
       "    </tr>\n",
       "  </thead>\n",
       "  <tbody>\n",
       "    <tr>\n",
       "      <th>0</th>\n",
       "      <td>The Prisoner's Gold (The Hunters 3)</td>\n",
       "      <td>Chris Kuzneski</td>\n",
       "      <td>Paperback,– 10 Mar 2016</td>\n",
       "      <td>4.0 out of 5 stars</td>\n",
       "      <td>8 customer reviews</td>\n",
       "      <td>THE HUNTERS return in their third brilliant no...</td>\n",
       "      <td>Action &amp; Adventure (Books)</td>\n",
       "      <td>Action &amp; Adventure</td>\n",
       "      <td>220.00</td>\n",
       "    </tr>\n",
       "    <tr>\n",
       "      <th>1</th>\n",
       "      <td>Guru Dutt: A Tragedy in Three Acts</td>\n",
       "      <td>Arun Khopkar</td>\n",
       "      <td>Paperback,– 7 Nov 2012</td>\n",
       "      <td>3.9 out of 5 stars</td>\n",
       "      <td>14 customer reviews</td>\n",
       "      <td>A layered portrait of a troubled genius for wh...</td>\n",
       "      <td>Cinema &amp; Broadcast (Books)</td>\n",
       "      <td>Biographies, Diaries &amp; True Accounts</td>\n",
       "      <td>202.93</td>\n",
       "    </tr>\n",
       "    <tr>\n",
       "      <th>2</th>\n",
       "      <td>Leviathan (Penguin Classics)</td>\n",
       "      <td>Thomas Hobbes</td>\n",
       "      <td>Paperback,– 25 Feb 1982</td>\n",
       "      <td>4.8 out of 5 stars</td>\n",
       "      <td>6 customer reviews</td>\n",
       "      <td>\"During the time men live without a common Pow...</td>\n",
       "      <td>International Relations</td>\n",
       "      <td>Humour</td>\n",
       "      <td>299.00</td>\n",
       "    </tr>\n",
       "    <tr>\n",
       "      <th>3</th>\n",
       "      <td>A Pocket Full of Rye (Miss Marple)</td>\n",
       "      <td>Agatha Christie</td>\n",
       "      <td>Paperback,– 5 Oct 2017</td>\n",
       "      <td>4.1 out of 5 stars</td>\n",
       "      <td>13 customer reviews</td>\n",
       "      <td>A handful of grain is found in the pocket of a...</td>\n",
       "      <td>Contemporary Fiction (Books)</td>\n",
       "      <td>Crime, Thriller &amp; Mystery</td>\n",
       "      <td>180.00</td>\n",
       "    </tr>\n",
       "    <tr>\n",
       "      <th>4</th>\n",
       "      <td>LIFE 70 Years of Extraordinary Photography</td>\n",
       "      <td>Editors of Life</td>\n",
       "      <td>Hardcover,– 10 Oct 2006</td>\n",
       "      <td>5.0 out of 5 stars</td>\n",
       "      <td>1 customer review</td>\n",
       "      <td>For seven decades, \"Life\" has been thrilling t...</td>\n",
       "      <td>Photography Textbooks</td>\n",
       "      <td>Arts, Film &amp; Photography</td>\n",
       "      <td>965.62</td>\n",
       "    </tr>\n",
       "  </tbody>\n",
       "</table>\n",
       "</div>"
      ],
      "text/plain": [
       "                                        Title           Author  \\\n",
       "0         The Prisoner's Gold (The Hunters 3)   Chris Kuzneski   \n",
       "1          Guru Dutt: A Tragedy in Three Acts     Arun Khopkar   \n",
       "2                Leviathan (Penguin Classics)    Thomas Hobbes   \n",
       "3          A Pocket Full of Rye (Miss Marple)  Agatha Christie   \n",
       "4  LIFE 70 Years of Extraordinary Photography  Editors of Life   \n",
       "\n",
       "                   Edition             Reviews              Ratings  \\\n",
       "0  Paperback,– 10 Mar 2016  4.0 out of 5 stars   8 customer reviews   \n",
       "1   Paperback,– 7 Nov 2012  3.9 out of 5 stars  14 customer reviews   \n",
       "2  Paperback,– 25 Feb 1982  4.8 out of 5 stars   6 customer reviews   \n",
       "3   Paperback,– 5 Oct 2017  4.1 out of 5 stars  13 customer reviews   \n",
       "4  Hardcover,– 10 Oct 2006  5.0 out of 5 stars    1 customer review   \n",
       "\n",
       "                                            Synopsis  \\\n",
       "0  THE HUNTERS return in their third brilliant no...   \n",
       "1  A layered portrait of a troubled genius for wh...   \n",
       "2  \"During the time men live without a common Pow...   \n",
       "3  A handful of grain is found in the pocket of a...   \n",
       "4  For seven decades, \"Life\" has been thrilling t...   \n",
       "\n",
       "                          Genre                          BookCategory   Price  \n",
       "0    Action & Adventure (Books)                    Action & Adventure  220.00  \n",
       "1    Cinema & Broadcast (Books)  Biographies, Diaries & True Accounts  202.93  \n",
       "2       International Relations                                Humour  299.00  \n",
       "3  Contemporary Fiction (Books)             Crime, Thriller & Mystery  180.00  \n",
       "4         Photography Textbooks              Arts, Film & Photography  965.62  "
      ]
     },
     "execution_count": 76,
     "metadata": {},
     "output_type": "execute_result"
    }
   ],
   "source": [
    "df.head()"
   ]
  },
  {
   "cell_type": "code",
   "execution_count": 77,
   "metadata": {},
   "outputs": [
    {
     "data": {
      "text/plain": [
       "count     6237.000000\n",
       "mean       560.707516\n",
       "std        690.110657\n",
       "min         25.000000\n",
       "25%        249.180000\n",
       "50%        373.000000\n",
       "75%        599.000000\n",
       "max      14100.000000\n",
       "Name: Price, dtype: float64"
      ]
     },
     "execution_count": 77,
     "metadata": {},
     "output_type": "execute_result"
    }
   ],
   "source": [
    "df['Price'].describe()"
   ]
  },
  {
   "cell_type": "markdown",
   "metadata": {},
   "source": [
    "Extract the review and rating scores"
   ]
  },
  {
   "cell_type": "code",
   "execution_count": 88,
   "metadata": {},
   "outputs": [],
   "source": [
    "reviews, ratings = [],[]\n",
    "for review in df['Reviews']:\n",
    "    reviews.append(review.split()[0])\n",
    "for rating in df['Ratings']:\n",
    "    ratings.append(rating.split()[0])\n",
    "    \n",
    "    \n",
    "df['Ratings'] = pd.Series(ratings)\n",
    "df['Reviews'] = pd.Series(reviews)"
   ]
  },
  {
   "cell_type": "markdown",
   "metadata": {},
   "source": [
    "Remove the comma"
   ]
  },
  {
   "cell_type": "code",
   "execution_count": 89,
   "metadata": {},
   "outputs": [
    {
     "name": "stdout",
     "output_type": "stream",
     "text": [
      "<class 'pandas.core.frame.DataFrame'>\n",
      "Int64Index: 7797 entries, 0 to 1559\n",
      "Data columns (total 9 columns):\n",
      " #   Column        Non-Null Count  Dtype  \n",
      "---  ------        --------------  -----  \n",
      " 0   Title         7797 non-null   object \n",
      " 1   Author        7797 non-null   object \n",
      " 2   Edition       7797 non-null   object \n",
      " 3   Reviews       7797 non-null   object \n",
      " 4   Ratings       7797 non-null   object \n",
      " 5   Synopsis      7797 non-null   object \n",
      " 6   Genre         7797 non-null   object \n",
      " 7   BookCategory  7797 non-null   object \n",
      " 8   Price         6237 non-null   float64\n",
      "dtypes: float64(1), object(8)\n",
      "memory usage: 609.1+ KB\n"
     ]
    }
   ],
   "source": [
    "df['Ratings'] = df['Ratings'].replace(',', '', regex=True)\n",
    "df['Reviews'] = df['Reviews'].replace(',', '', regex=True)\n",
    "\n",
    "df.info()"
   ]
  },
  {
   "cell_type": "markdown",
   "metadata": {},
   "source": [
    "Convert to float dtype"
   ]
  },
  {
   "cell_type": "code",
   "execution_count": 90,
   "metadata": {},
   "outputs": [],
   "source": [
    "df['Ratings'] = df['Ratings'].astype(float)\n",
    "df['Reviews'] = df['Reviews'].astype(float)"
   ]
  },
  {
   "cell_type": "code",
   "execution_count": 81,
   "metadata": {},
   "outputs": [
    {
     "data": {
      "text/html": [
       "<div>\n",
       "<style scoped>\n",
       "    .dataframe tbody tr th:only-of-type {\n",
       "        vertical-align: middle;\n",
       "    }\n",
       "\n",
       "    .dataframe tbody tr th {\n",
       "        vertical-align: top;\n",
       "    }\n",
       "\n",
       "    .dataframe thead th {\n",
       "        text-align: right;\n",
       "    }\n",
       "</style>\n",
       "<table border=\"1\" class=\"dataframe\">\n",
       "  <thead>\n",
       "    <tr style=\"text-align: right;\">\n",
       "      <th></th>\n",
       "      <th>Title</th>\n",
       "      <th>Author</th>\n",
       "      <th>Edition</th>\n",
       "      <th>Reviews</th>\n",
       "      <th>Ratings</th>\n",
       "      <th>Synopsis</th>\n",
       "      <th>Genre</th>\n",
       "      <th>BookCategory</th>\n",
       "      <th>Price</th>\n",
       "    </tr>\n",
       "  </thead>\n",
       "  <tbody>\n",
       "    <tr>\n",
       "      <th>0</th>\n",
       "      <td>The Prisoner's Gold (The Hunters 3)</td>\n",
       "      <td>Chris Kuzneski</td>\n",
       "      <td>Paperback,– 10 Mar 2016</td>\n",
       "      <td>4.0</td>\n",
       "      <td>8.0</td>\n",
       "      <td>THE HUNTERS return in their third brilliant no...</td>\n",
       "      <td>Action &amp; Adventure (Books)</td>\n",
       "      <td>Action &amp; Adventure</td>\n",
       "      <td>220.00</td>\n",
       "    </tr>\n",
       "    <tr>\n",
       "      <th>1</th>\n",
       "      <td>Guru Dutt: A Tragedy in Three Acts</td>\n",
       "      <td>Arun Khopkar</td>\n",
       "      <td>Paperback,– 7 Nov 2012</td>\n",
       "      <td>3.9</td>\n",
       "      <td>14.0</td>\n",
       "      <td>A layered portrait of a troubled genius for wh...</td>\n",
       "      <td>Cinema &amp; Broadcast (Books)</td>\n",
       "      <td>Biographies, Diaries &amp; True Accounts</td>\n",
       "      <td>202.93</td>\n",
       "    </tr>\n",
       "    <tr>\n",
       "      <th>2</th>\n",
       "      <td>Leviathan (Penguin Classics)</td>\n",
       "      <td>Thomas Hobbes</td>\n",
       "      <td>Paperback,– 25 Feb 1982</td>\n",
       "      <td>4.8</td>\n",
       "      <td>6.0</td>\n",
       "      <td>\"During the time men live without a common Pow...</td>\n",
       "      <td>International Relations</td>\n",
       "      <td>Humour</td>\n",
       "      <td>299.00</td>\n",
       "    </tr>\n",
       "    <tr>\n",
       "      <th>3</th>\n",
       "      <td>A Pocket Full of Rye (Miss Marple)</td>\n",
       "      <td>Agatha Christie</td>\n",
       "      <td>Paperback,– 5 Oct 2017</td>\n",
       "      <td>4.1</td>\n",
       "      <td>13.0</td>\n",
       "      <td>A handful of grain is found in the pocket of a...</td>\n",
       "      <td>Contemporary Fiction (Books)</td>\n",
       "      <td>Crime, Thriller &amp; Mystery</td>\n",
       "      <td>180.00</td>\n",
       "    </tr>\n",
       "    <tr>\n",
       "      <th>4</th>\n",
       "      <td>LIFE 70 Years of Extraordinary Photography</td>\n",
       "      <td>Editors of Life</td>\n",
       "      <td>Hardcover,– 10 Oct 2006</td>\n",
       "      <td>5.0</td>\n",
       "      <td>1.0</td>\n",
       "      <td>For seven decades, \"Life\" has been thrilling t...</td>\n",
       "      <td>Photography Textbooks</td>\n",
       "      <td>Arts, Film &amp; Photography</td>\n",
       "      <td>965.62</td>\n",
       "    </tr>\n",
       "  </tbody>\n",
       "</table>\n",
       "</div>"
      ],
      "text/plain": [
       "                                        Title           Author  \\\n",
       "0         The Prisoner's Gold (The Hunters 3)   Chris Kuzneski   \n",
       "1          Guru Dutt: A Tragedy in Three Acts     Arun Khopkar   \n",
       "2                Leviathan (Penguin Classics)    Thomas Hobbes   \n",
       "3          A Pocket Full of Rye (Miss Marple)  Agatha Christie   \n",
       "4  LIFE 70 Years of Extraordinary Photography  Editors of Life   \n",
       "\n",
       "                   Edition  Reviews  Ratings  \\\n",
       "0  Paperback,– 10 Mar 2016      4.0      8.0   \n",
       "1   Paperback,– 7 Nov 2012      3.9     14.0   \n",
       "2  Paperback,– 25 Feb 1982      4.8      6.0   \n",
       "3   Paperback,– 5 Oct 2017      4.1     13.0   \n",
       "4  Hardcover,– 10 Oct 2006      5.0      1.0   \n",
       "\n",
       "                                            Synopsis  \\\n",
       "0  THE HUNTERS return in their third brilliant no...   \n",
       "1  A layered portrait of a troubled genius for wh...   \n",
       "2  \"During the time men live without a common Pow...   \n",
       "3  A handful of grain is found in the pocket of a...   \n",
       "4  For seven decades, \"Life\" has been thrilling t...   \n",
       "\n",
       "                          Genre                          BookCategory   Price  \n",
       "0    Action & Adventure (Books)                    Action & Adventure  220.00  \n",
       "1    Cinema & Broadcast (Books)  Biographies, Diaries & True Accounts  202.93  \n",
       "2       International Relations                                Humour  299.00  \n",
       "3  Contemporary Fiction (Books)             Crime, Thriller & Mystery  180.00  \n",
       "4         Photography Textbooks              Arts, Film & Photography  965.62  "
      ]
     },
     "execution_count": 81,
     "metadata": {},
     "output_type": "execute_result"
    }
   ],
   "source": [
    "df.head()"
   ]
  },
  {
   "cell_type": "code",
   "execution_count": 82,
   "metadata": {},
   "outputs": [
    {
     "data": {
      "image/png": "[encoded data removed]",
      "text/plain": [
       "<Figure size 720x432 with 1 Axes>"
      ]
     },
     "metadata": {
      "needs_background": "light"
     },
     "output_type": "display_data"
    }
   ],
   "source": [
    "df['Price'].plot.hist(bins=60, figsize=(10,6), color='lightblue');"
   ]
  },
  {
   "cell_type": "markdown",
   "metadata": {},
   "source": [
    "Well Outlier EveryWhere ..."
   ]
  },
  {
   "cell_type": "code",
   "execution_count": 45,
   "metadata": {},
   "outputs": [
    {
     "data": {
      "image/png": "[encoded data removed]",
      "text/plain": [
       "<Figure size 720x360 with 1 Axes>"
      ]
     },
     "metadata": {
      "needs_background": "light"
     },
     "output_type": "display_data"
    }
   ],
   "source": [
    "df['Price'].dropna().plot.box(figsize=(10,5));"
   ]
  },
  {
   "cell_type": "markdown",
   "metadata": {},
   "source": [
    "Most of the value are between +10 to 8000"
   ]
  },
  {
   "cell_type": "code",
   "execution_count": 46,
   "metadata": {},
   "outputs": [
    {
     "data": {
      "text/plain": [
       "count     6237.000000\n",
       "mean       560.707516\n",
       "std        690.110657\n",
       "min         25.000000\n",
       "25%        249.180000\n",
       "50%        373.000000\n",
       "75%        599.000000\n",
       "max      14100.000000\n",
       "Name: Price, dtype: float64"
      ]
     },
     "execution_count": 46,
     "metadata": {},
     "output_type": "execute_result"
    }
   ],
   "source": [
    "df['Price'].describe()"
   ]
  },
  {
   "cell_type": "code",
   "execution_count": 47,
   "metadata": {},
   "outputs": [
    {
     "data": {
      "text/html": [
       "<div>\n",
       "<style scoped>\n",
       "    .dataframe tbody tr th:only-of-type {\n",
       "        vertical-align: middle;\n",
       "    }\n",
       "\n",
       "    .dataframe tbody tr th {\n",
       "        vertical-align: top;\n",
       "    }\n",
       "\n",
       "    .dataframe thead th {\n",
       "        text-align: right;\n",
       "    }\n",
       "</style>\n",
       "<table border=\"1\" class=\"dataframe\">\n",
       "  <thead>\n",
       "    <tr style=\"text-align: right;\">\n",
       "      <th></th>\n",
       "      <th>Title</th>\n",
       "      <th>Author</th>\n",
       "      <th>Edition</th>\n",
       "      <th>Reviews</th>\n",
       "      <th>Ratings</th>\n",
       "      <th>Synopsis</th>\n",
       "      <th>Genre</th>\n",
       "      <th>BookCategory</th>\n",
       "      <th>Price</th>\n",
       "    </tr>\n",
       "  </thead>\n",
       "  <tbody>\n",
       "    <tr>\n",
       "      <th>886</th>\n",
       "      <td>Modern Labor Economics: Theory and Public Poli...</td>\n",
       "      <td>Ronald G. Ehrenberg</td>\n",
       "      <td>Hardcover,– Import, 27 Oct 1999</td>\n",
       "      <td>4.0</td>\n",
       "      <td>1.0</td>\n",
       "      <td>Comprehensively surveying the field of labor e...</td>\n",
       "      <td>Labor &amp; Industrial Relations</td>\n",
       "      <td>Politics</td>\n",
       "      <td>13244.67</td>\n",
       "    </tr>\n",
       "    <tr>\n",
       "      <th>2455</th>\n",
       "      <td>The Complete Asterix Box Set (36 Titles)</td>\n",
       "      <td>Rene Goscinny</td>\n",
       "      <td>Product Bundle,– 26 Aug 2016</td>\n",
       "      <td>4.9</td>\n",
       "      <td>22.0</td>\n",
       "      <td>Composed of thirty six, four-colour albums in ...</td>\n",
       "      <td>Comics &amp; Graphic Novels (Books)</td>\n",
       "      <td>Comics &amp; Mangas</td>\n",
       "      <td>14100.00</td>\n",
       "    </tr>\n",
       "    <tr>\n",
       "      <th>2607</th>\n",
       "      <td>Fifty Cars that Changed the World: Design Muse...</td>\n",
       "      <td>Design Museum Enterprise Limited</td>\n",
       "      <td>Hardcover,– 6 Oct 2009</td>\n",
       "      <td>4.0</td>\n",
       "      <td>1.0</td>\n",
       "      <td>Everything around us is designed and the word ...</td>\n",
       "      <td>Arts History, Theory &amp; Criticism (Books)</td>\n",
       "      <td>Arts, Film &amp; Photography</td>\n",
       "      <td>11715.12</td>\n",
       "    </tr>\n",
       "  </tbody>\n",
       "</table>\n",
       "</div>"
      ],
      "text/plain": [
       "                                                  Title  \\\n",
       "886   Modern Labor Economics: Theory and Public Poli...   \n",
       "2455           The Complete Asterix Box Set (36 Titles)   \n",
       "2607  Fifty Cars that Changed the World: Design Muse...   \n",
       "\n",
       "                                Author                          Edition  \\\n",
       "886                Ronald G. Ehrenberg  Hardcover,– Import, 27 Oct 1999   \n",
       "2455                     Rene Goscinny     Product Bundle,– 26 Aug 2016   \n",
       "2607  Design Museum Enterprise Limited           Hardcover,– 6 Oct 2009   \n",
       "\n",
       "      Reviews  Ratings                                           Synopsis  \\\n",
       "886       4.0      1.0  Comprehensively surveying the field of labor e...   \n",
       "2455      4.9     22.0  Composed of thirty six, four-colour albums in ...   \n",
       "2607      4.0      1.0  Everything around us is designed and the word ...   \n",
       "\n",
       "                                         Genre              BookCategory  \\\n",
       "886               Labor & Industrial Relations                  Politics   \n",
       "2455           Comics & Graphic Novels (Books)           Comics & Mangas   \n",
       "2607  Arts History, Theory & Criticism (Books)  Arts, Film & Photography   \n",
       "\n",
       "         Price  \n",
       "886   13244.67  \n",
       "2455  14100.00  \n",
       "2607  11715.12  "
      ]
     },
     "execution_count": 47,
     "metadata": {},
     "output_type": "execute_result"
    }
   ],
   "source": [
    "# let inspect\n",
    "df[df['Price'] > 10000]"
   ]
  },
  {
   "cell_type": "markdown",
   "metadata": {},
   "source": [
    "I'll Drop all these entries"
   ]
  },
  {
   "cell_type": "code",
   "execution_count": 83,
   "metadata": {},
   "outputs": [
    {
     "data": {
      "text/plain": [
       "(6234, 9)"
      ]
     },
     "execution_count": 83,
     "metadata": {},
     "output_type": "execute_result"
    }
   ],
   "source": [
    "df = df[df['Price'] <= 10000]\n",
    "\n",
    "df.shape"
   ]
  },
  {
   "cell_type": "code",
   "execution_count": 84,
   "metadata": {},
   "outputs": [
    {
     "data": {
      "image/png": "[encoded data removed]",
      "text/plain": [
       "<Figure size 720x360 with 1 Axes>"
      ]
     },
     "metadata": {
      "needs_background": "light"
     },
     "output_type": "display_data"
    }
   ],
   "source": [
    "df['Price'].dropna().plot.box(figsize=(10,5));"
   ]
  },
  {
   "cell_type": "code",
   "execution_count": 91,
   "metadata": {},
   "outputs": [],
   "source": [
    "# significant score\n",
    "df['SignificantScore'] = (df['Reviews'] / df['Ratings']) "
   ]
  },
  {
   "cell_type": "code",
   "execution_count": 92,
   "metadata": {},
   "outputs": [
    {
     "data": {
      "text/html": [
       "<div>\n",
       "<style scoped>\n",
       "    .dataframe tbody tr th:only-of-type {\n",
       "        vertical-align: middle;\n",
       "    }\n",
       "\n",
       "    .dataframe tbody tr th {\n",
       "        vertical-align: top;\n",
       "    }\n",
       "\n",
       "    .dataframe thead th {\n",
       "        text-align: right;\n",
       "    }\n",
       "</style>\n",
       "<table border=\"1\" class=\"dataframe\">\n",
       "  <thead>\n",
       "    <tr style=\"text-align: right;\">\n",
       "      <th></th>\n",
       "      <th>Title</th>\n",
       "      <th>Author</th>\n",
       "      <th>Edition</th>\n",
       "      <th>Reviews</th>\n",
       "      <th>Ratings</th>\n",
       "      <th>Synopsis</th>\n",
       "      <th>Genre</th>\n",
       "      <th>BookCategory</th>\n",
       "      <th>Price</th>\n",
       "      <th>SignificantScore</th>\n",
       "    </tr>\n",
       "  </thead>\n",
       "  <tbody>\n",
       "    <tr>\n",
       "      <th>0</th>\n",
       "      <td>The Prisoner's Gold (The Hunters 3)</td>\n",
       "      <td>Chris Kuzneski</td>\n",
       "      <td>Paperback,– 10 Mar 2016</td>\n",
       "      <td>4.0</td>\n",
       "      <td>8.0</td>\n",
       "      <td>THE HUNTERS return in their third brilliant no...</td>\n",
       "      <td>Action &amp; Adventure (Books)</td>\n",
       "      <td>Action &amp; Adventure</td>\n",
       "      <td>220.00</td>\n",
       "      <td>0.500000</td>\n",
       "    </tr>\n",
       "    <tr>\n",
       "      <th>1</th>\n",
       "      <td>Guru Dutt: A Tragedy in Three Acts</td>\n",
       "      <td>Arun Khopkar</td>\n",
       "      <td>Paperback,– 7 Nov 2012</td>\n",
       "      <td>3.9</td>\n",
       "      <td>14.0</td>\n",
       "      <td>A layered portrait of a troubled genius for wh...</td>\n",
       "      <td>Cinema &amp; Broadcast (Books)</td>\n",
       "      <td>Biographies, Diaries &amp; True Accounts</td>\n",
       "      <td>202.93</td>\n",
       "      <td>0.278571</td>\n",
       "    </tr>\n",
       "    <tr>\n",
       "      <th>2</th>\n",
       "      <td>Leviathan (Penguin Classics)</td>\n",
       "      <td>Thomas Hobbes</td>\n",
       "      <td>Paperback,– 25 Feb 1982</td>\n",
       "      <td>4.8</td>\n",
       "      <td>6.0</td>\n",
       "      <td>\"During the time men live without a common Pow...</td>\n",
       "      <td>International Relations</td>\n",
       "      <td>Humour</td>\n",
       "      <td>299.00</td>\n",
       "      <td>0.800000</td>\n",
       "    </tr>\n",
       "    <tr>\n",
       "      <th>3</th>\n",
       "      <td>A Pocket Full of Rye (Miss Marple)</td>\n",
       "      <td>Agatha Christie</td>\n",
       "      <td>Paperback,– 5 Oct 2017</td>\n",
       "      <td>4.1</td>\n",
       "      <td>13.0</td>\n",
       "      <td>A handful of grain is found in the pocket of a...</td>\n",
       "      <td>Contemporary Fiction (Books)</td>\n",
       "      <td>Crime, Thriller &amp; Mystery</td>\n",
       "      <td>180.00</td>\n",
       "      <td>0.315385</td>\n",
       "    </tr>\n",
       "    <tr>\n",
       "      <th>4</th>\n",
       "      <td>LIFE 70 Years of Extraordinary Photography</td>\n",
       "      <td>Editors of Life</td>\n",
       "      <td>Hardcover,– 10 Oct 2006</td>\n",
       "      <td>5.0</td>\n",
       "      <td>1.0</td>\n",
       "      <td>For seven decades, \"Life\" has been thrilling t...</td>\n",
       "      <td>Photography Textbooks</td>\n",
       "      <td>Arts, Film &amp; Photography</td>\n",
       "      <td>965.62</td>\n",
       "      <td>5.000000</td>\n",
       "    </tr>\n",
       "  </tbody>\n",
       "</table>\n",
       "</div>"
      ],
      "text/plain": [
       "                                        Title           Author  \\\n",
       "0         The Prisoner's Gold (The Hunters 3)   Chris Kuzneski   \n",
       "1          Guru Dutt: A Tragedy in Three Acts     Arun Khopkar   \n",
       "2                Leviathan (Penguin Classics)    Thomas Hobbes   \n",
       "3          A Pocket Full of Rye (Miss Marple)  Agatha Christie   \n",
       "4  LIFE 70 Years of Extraordinary Photography  Editors of Life   \n",
       "\n",
       "                   Edition  Reviews  Ratings  \\\n",
       "0  Paperback,– 10 Mar 2016      4.0      8.0   \n",
       "1   Paperback,– 7 Nov 2012      3.9     14.0   \n",
       "2  Paperback,– 25 Feb 1982      4.8      6.0   \n",
       "3   Paperback,– 5 Oct 2017      4.1     13.0   \n",
       "4  Hardcover,– 10 Oct 2006      5.0      1.0   \n",
       "\n",
       "                                            Synopsis  \\\n",
       "0  THE HUNTERS return in their third brilliant no...   \n",
       "1  A layered portrait of a troubled genius for wh...   \n",
       "2  \"During the time men live without a common Pow...   \n",
       "3  A handful of grain is found in the pocket of a...   \n",
       "4  For seven decades, \"Life\" has been thrilling t...   \n",
       "\n",
       "                          Genre                          BookCategory   Price  \\\n",
       "0    Action & Adventure (Books)                    Action & Adventure  220.00   \n",
       "1    Cinema & Broadcast (Books)  Biographies, Diaries & True Accounts  202.93   \n",
       "2       International Relations                                Humour  299.00   \n",
       "3  Contemporary Fiction (Books)             Crime, Thriller & Mystery  180.00   \n",
       "4         Photography Textbooks              Arts, Film & Photography  965.62   \n",
       "\n",
       "   SignificantScore  \n",
       "0          0.500000  \n",
       "1          0.278571  \n",
       "2          0.800000  \n",
       "3          0.315385  \n",
       "4          5.000000  "
      ]
     },
     "execution_count": 92,
     "metadata": {},
     "output_type": "execute_result"
    }
   ],
   "source": [
    "df.head()"
   ]
  },
  {
   "cell_type": "code",
   "execution_count": 52,
   "metadata": {},
   "outputs": [
    {
     "data": {
      "text/plain": [
       "345"
      ]
     },
     "execution_count": 52,
     "metadata": {},
     "output_type": "execute_result"
    }
   ],
   "source": [
    "df['Genre'].nunique()"
   ]
  },
  {
   "cell_type": "code",
   "execution_count": 53,
   "metadata": {},
   "outputs": [
    {
     "data": {
      "text/plain": [
       "11"
      ]
     },
     "execution_count": 53,
     "metadata": {},
     "output_type": "execute_result"
    }
   ],
   "source": [
    "df['BookCategory'].nunique()"
   ]
  },
  {
   "cell_type": "code",
   "execution_count": 93,
   "metadata": {},
   "outputs": [],
   "source": [
    "# created aggregated features as per Genre and BookCategory\n",
    "\n",
    "df['mean_Genre_Ratings'] = df.groupby('Genre')['Ratings'].transform('mean')\n",
    "df['std_Genre_Ratings'] = df.groupby('Genre')['Ratings'].transform('std')\n",
    "df['median_Genre_Ratings'] = df.groupby('Genre')['Ratings'].transform('median')\n",
    "df['var_Genre_Ratings'] = df.groupby('Genre')['Ratings'].transform('var')\n",
    "\n",
    "df['mean_Genre_Reviews'] = df.groupby('Genre')['Reviews'].transform('mean')\n",
    "df['std_Genre_Reviews'] = df.groupby('Genre')['Reviews'].transform('std')\n",
    "df['median_Genre_Reviews'] = df.groupby('Genre')['Reviews'].transform('median')\n",
    "df['var_Genre_Reviews'] = df.groupby('Genre')['Reviews'].transform('var')\n",
    "\n",
    "df['mean_BookCategory_Ratings'] = df.groupby('BookCategory')['Ratings'].transform('mean')\n",
    "df['std_BookCategory_Ratings'] = df.groupby('BookCategory')['Ratings'].transform('std')\n",
    "df['median_BookCategory_Ratings'] = df.groupby('BookCategory')['Ratings'].transform('median')\n",
    "df['var_BookCategory_Ratings'] = df.groupby('BookCategory')['Ratings'].transform('var')\n",
    "\n",
    "df['mean_BookCategory_Reviews'] = df.groupby('BookCategory')['Reviews'].transform('mean')\n",
    "df['std_BookCategorye_Reviews'] = df.groupby('BookCategory')['Reviews'].transform('std')\n",
    "df['median_BookCategory_Reviews'] = df.groupby('BookCategory')['Reviews'].transform('median')\n",
    "df['var_BookCategory_Reviews'] = df.groupby('BookCategory')['Reviews'].transform('var')"
   ]
  },
  {
   "cell_type": "code",
   "execution_count": 55,
   "metadata": {},
   "outputs": [
    {
     "data": {
      "text/plain": [
       "3367"
      ]
     },
     "execution_count": 55,
     "metadata": {},
     "output_type": "execute_result"
    }
   ],
   "source": [
    "df['Edition'].nunique()"
   ]
  },
  {
   "cell_type": "code",
   "execution_count": 64,
   "metadata": {},
   "outputs": [
    {
     "data": {
      "image/png": "[encoded data removed]",
      "text/plain": [
       "<Figure size 648x360 with 1 Axes>"
      ]
     },
     "metadata": {
      "needs_background": "light"
     },
     "output_type": "display_data"
    }
   ],
   "source": [
    "df['SignificantScore'].plot.hist(figsize=(9,5), color='b', bins=40);"
   ]
  },
  {
   "cell_type": "code",
   "execution_count": 94,
   "metadata": {},
   "outputs": [
    {
     "data": {
      "text/plain": [
       "count    7797.000000\n",
       "mean        1.333282\n",
       "std         1.570984\n",
       "min         0.000722\n",
       "25%         0.194737\n",
       "50%         0.633333\n",
       "75%         1.750000\n",
       "max         5.000000\n",
       "Name: SignificantScore, dtype: float64"
      ]
     },
     "execution_count": 94,
     "metadata": {},
     "output_type": "execute_result"
    }
   ],
   "source": [
    "df['SignificantScore'].describe()"
   ]
  },
  {
   "cell_type": "markdown",
   "metadata": {},
   "source": [
    "NOrmalization is what i did to bring some sense to the data"
   ]
  },
  {
   "cell_type": "markdown",
   "metadata": {},
   "source": [
    "<!--  drop some columns -->"
   ]
  },
  {
   "cell_type": "code",
   "execution_count": 67,
   "metadata": {},
   "outputs": [
    {
     "data": {
      "text/plain": [
       "Index(['Title', 'Author', 'Edition', 'Reviews', 'Ratings', 'Synopsis', 'Genre',\n",
       "       'BookCategory', 'Price', 'SignificantScore', 'mean_Genre_Ratings',\n",
       "       'std_Genre_Ratings', 'median_Genre_Ratings', 'var_Genre_Ratings',\n",
       "       'mean_Genre_Reviews', 'std_Genre_Reviews', 'median_Genre_Reviews',\n",
       "       'var_Genre_Reviews', 'mean_BookCategory_Ratings',\n",
       "       'std_BookCategory_Ratings', 'median_BookCategory_Ratings',\n",
       "       'var_BookCategory_Ratings', 'mean_BookCategory_Reviews',\n",
       "       'std_BookCategorye_Reviews', 'median_BookCategory_Reviews',\n",
       "       'var_BookCategory_Reviews'],\n",
       "      dtype='object')"
      ]
     },
     "execution_count": 67,
     "metadata": {},
     "output_type": "execute_result"
    }
   ],
   "source": [
    "df.columns"
   ]
  },
  {
   "cell_type": "code",
   "execution_count": 95,
   "metadata": {},
   "outputs": [
    {
     "data": {
      "text/plain": [
       "(7797, 20)"
      ]
     },
     "execution_count": 95,
     "metadata": {},
     "output_type": "execute_result"
    }
   ],
   "source": [
    "# drop some columns\n",
    "cols_2_drop = ['Title', 'Edition', 'Author', 'Synopsis', 'Genre', 'BookCategory']\n",
    "\n",
    "df = df.drop(columns=cols_2_drop, axis=1)\n",
    "df.shape"
   ]
  },
  {
   "cell_type": "code",
   "execution_count": 96,
   "metadata": {},
   "outputs": [
    {
     "name": "stdout",
     "output_type": "stream",
     "text": [
      "<class 'pandas.core.frame.DataFrame'>\n",
      "Int64Index: 7797 entries, 0 to 1559\n",
      "Data columns (total 20 columns):\n",
      " #   Column                       Non-Null Count  Dtype  \n",
      "---  ------                       --------------  -----  \n",
      " 0   Reviews                      7797 non-null   float64\n",
      " 1   Ratings                      7797 non-null   float64\n",
      " 2   Price                        6237 non-null   float64\n",
      " 3   SignificantScore             7797 non-null   float64\n",
      " 4   mean_Genre_Ratings           7797 non-null   float64\n",
      " 5   std_Genre_Ratings            7710 non-null   float64\n",
      " 6   median_Genre_Ratings         7797 non-null   float64\n",
      " 7   var_Genre_Ratings            7710 non-null   float64\n",
      " 8   mean_Genre_Reviews           7797 non-null   float64\n",
      " 9   std_Genre_Reviews            7710 non-null   float64\n",
      " 10  median_Genre_Reviews         7797 non-null   float64\n",
      " 11  var_Genre_Reviews            7710 non-null   float64\n",
      " 12  mean_BookCategory_Ratings    7797 non-null   float64\n",
      " 13  std_BookCategory_Ratings     7797 non-null   float64\n",
      " 14  median_BookCategory_Ratings  7797 non-null   float64\n",
      " 15  var_BookCategory_Ratings     7797 non-null   float64\n",
      " 16  mean_BookCategory_Reviews    7797 non-null   float64\n",
      " 17  std_BookCategorye_Reviews    7797 non-null   float64\n",
      " 18  median_BookCategory_Reviews  7797 non-null   float64\n",
      " 19  var_BookCategory_Reviews     7797 non-null   float64\n",
      "dtypes: float64(20)\n",
      "memory usage: 1.2 MB\n"
     ]
    }
   ],
   "source": [
    "df.info()"
   ]
  },
  {
   "cell_type": "code",
   "execution_count": 70,
   "metadata": {},
   "outputs": [],
   "source": [
    "df.fillna(0, inplace=True)"
   ]
  },
  {
   "cell_type": "markdown",
   "metadata": {},
   "source": [
    "### Now SPark DataFrame"
   ]
  },
  {
   "cell_type": "code",
   "execution_count": 97,
   "metadata": {},
   "outputs": [
    {
     "name": "stdout",
     "output_type": "stream",
     "text": [
      "(6237, 20) (1560, 20)\n"
     ]
    }
   ],
   "source": [
    "train = df[df['Price'].isna()== False]\n",
    "test = df[df['Price'].isna()== True]\n",
    "\n",
    "print(train.shape, test.shape)"
   ]
  },
  {
   "cell_type": "code",
   "execution_count": 98,
   "metadata": {},
   "outputs": [
    {
     "name": "stderr",
     "output_type": "stream",
     "text": [
      "c:\\users\\abuton\\appdata\\local\\programs\\python\\python37\\lib\\site-packages\\pandas\\core\\frame.py:3997: SettingWithCopyWarning: \n",
      "A value is trying to be set on a copy of a slice from a DataFrame\n",
      "\n",
      "See the caveats in the documentation: https://pandas.pydata.org/pandas-docs/stable/user_guide/indexing.html#returning-a-view-versus-a-copy\n",
      "  errors=errors,\n"
     ]
    }
   ],
   "source": [
    "test.drop('Price', axis=1, inplace=True)"
   ]
  },
  {
   "cell_type": "code",
   "execution_count": 99,
   "metadata": {},
   "outputs": [
    {
     "name": "stderr",
     "output_type": "stream",
     "text": [
      "c:\\users\\abuton\\appdata\\local\\programs\\python\\python37\\lib\\site-packages\\pandas\\core\\frame.py:4153: SettingWithCopyWarning: \n",
      "A value is trying to be set on a copy of a slice from a DataFrame\n",
      "\n",
      "See the caveats in the documentation: https://pandas.pydata.org/pandas-docs/stable/user_guide/indexing.html#returning-a-view-versus-a-copy\n",
      "  downcast=downcast,\n"
     ]
    }
   ],
   "source": [
    "train.fillna(0, inplace=True)\n",
    "test.fillna(0, inplace=True)"
   ]
  },
  {
   "cell_type": "code",
   "execution_count": 100,
   "metadata": {},
   "outputs": [],
   "source": [
    "spark_train = spark.createDataFrame(train)\n",
    "spark_test = spark.createDataFrame(test)"
   ]
  },
  {
   "cell_type": "code",
   "execution_count": 101,
   "metadata": {},
   "outputs": [
    {
     "name": "stdout",
     "output_type": "stream",
     "text": [
      "+-------+-------+------+--------------------+------------------+------------------+--------------------+------------------+------------------+------------------+--------------------+-------------------+-------------------------+------------------------+---------------------------+------------------------+-------------------------+-------------------------+---------------------------+------------------------+\n",
      "|Reviews|Ratings| Price|    SignificantScore|mean_Genre_Ratings| std_Genre_Ratings|median_Genre_Ratings| var_Genre_Ratings|mean_Genre_Reviews| std_Genre_Reviews|median_Genre_Reviews|  var_Genre_Reviews|mean_BookCategory_Ratings|std_BookCategory_Ratings|median_BookCategory_Ratings|var_BookCategory_Ratings|mean_BookCategory_Reviews|std_BookCategorye_Reviews|median_BookCategory_Reviews|var_BookCategory_Reviews|\n",
      "+-------+-------+------+--------------------+------------------+------------------+--------------------+------------------+------------------+------------------+--------------------+-------------------+-------------------------+------------------------+---------------------------+------------------------+-------------------------+-------------------------+---------------------------+------------------------+\n",
      "|    4.0|    8.0| 220.0|                 0.5| 39.53000845308538|142.68872883766812|                 7.0|20360.073337309583|  4.29349112426036|0.6247706053859439|                 4.4|0.39033830935431885|        35.69401544401544|      139.09551162943694|                        6.0|       19347.56135545483|        4.298455598455598|       0.6333238206436846|                        4.4|       0.401099061794714|\n",
      "|    3.9|   14.0|202.93|  0.2785714285714286|14.206521739130435|26.683549710100234|                 5.0| 712.0118251313903| 4.276086956521739| 0.742044926991723|                4.45| 0.5506306736741515|         80.6707650273224|      206.85276210546186|                       20.0|      42788.065190658795|        4.332377049180328|       0.4839173595297118|                        4.4|      0.2341760108542084|\n",
      "|    4.8|    6.0| 299.0|  0.7999999999999999|              9.56|12.659252215935453|                 6.0|160.25666666666666| 4.412000000000001|0.5775811631277459|                 4.5|0.33359999999999984|       20.416417910447763|        97.3089544438339|                        4.0|        9469.03261495214|        4.338208955223882|       0.7437048721371003|                        4.5|      0.5530969368404608|\n",
      "|    4.1|   13.0| 180.0|  0.3153846153846154| 39.60923076923077|110.00585523568661|                 8.0|12101.288186134838| 4.180923076923076|0.6394000927685878|                 4.2| 0.4088324786324786|       40.174259681093396|      111.32799669738571|                        9.0|      12393.922848653125|        4.180296127562638|       0.6351623060934178|                       4.25|      0.4034311550819086|\n",
      "|    5.0|    1.0|965.62|                 5.0|12.829787234042554| 28.12960621135533|                 4.0| 791.2747456059204|4.4361702127659575|0.7844758792852642|                 4.6| 0.6154024051803885|       20.852664576802507|       67.97414032336488|                        5.0|       4620.483752700499|        4.353134796238241|       0.6865936787945498|                        4.5|      0.4714108797606334|\n",
      "|    4.5|    8.0| 900.0|              0.5625|36.373493975903614|135.09867313924556|                 4.0| 18251.65148398471| 4.285542168674699|0.7233277653504993|                 4.4| 0.5232030561269468|       17.798045602605864|       95.54055840113071|                        4.0|       9127.998299599867|        4.372964169381105|       0.6846620785805281|                        4.5|     0.46876216184620917|\n",
      "|    4.4|   72.0| 224.0|0.061111111111111116| 41.14328358208955|115.74265696743116|                11.0| 13396.36264188044| 4.178208955223881| 0.580653476008713|                 4.3|0.33715845920100107|       40.174259681093396|      111.32799669738571|                        9.0|      12393.922848653125|        4.180296127562638|       0.6351623060934178|                       4.25|      0.4034311550819086|\n",
      "+-------+-------+------+--------------------+------------------+------------------+--------------------+------------------+------------------+------------------+--------------------+-------------------+-------------------------+------------------------+---------------------------+------------------------+-------------------------+-------------------------+---------------------------+------------------------+\n",
      "only showing top 7 rows\n",
      "\n"
     ]
    }
   ],
   "source": [
    "spark_train.show(7)"
   ]
  },
  {
   "cell_type": "code",
   "execution_count": 102,
   "metadata": {},
   "outputs": [
    {
     "name": "stdout",
     "output_type": "stream",
     "text": [
      "+-------+-------+--------+-------------------+------------------+------------------+--------------------+------------------+------------------+------------------+--------------------+-------------------+-------------------------+------------------------+---------------------------+------------------------+-------------------------+-------------------------+---------------------------+------------------------+\n",
      "|Reviews|Ratings|   Price|   SignificantScore|mean_Genre_Ratings| std_Genre_Ratings|median_Genre_Ratings| var_Genre_Ratings|mean_Genre_Reviews| std_Genre_Reviews|median_Genre_Reviews|  var_Genre_Reviews|mean_BookCategory_Ratings|std_BookCategory_Ratings|median_BookCategory_Ratings|var_BookCategory_Ratings|mean_BookCategory_Reviews|std_BookCategorye_Reviews|median_BookCategory_Reviews|var_BookCategory_Reviews|\n",
      "+-------+-------+--------+-------------------+------------------+------------------+--------------------+------------------+------------------+------------------+--------------------+-------------------+-------------------------+------------------------+---------------------------+------------------------+-------------------------+-------------------------+---------------------------+------------------------+\n",
      "|    4.0|    1.0|13244.67|                4.0|3.8333333333333335| 4.490731195102493|                 1.0|20.166666666666664| 4.216666666666667|1.1669047376142865|                4.65| 1.3616666666666668|        37.19402985074627|      101.96335542514879|                        7.0|      10396.525849555219|        4.266666666666668|       0.6682939408336318|                        4.4|      0.4466167913549458|\n",
      "|    4.9|   22.0| 14100.0|0.22272727272727275| 8.960526315789474|12.654844436787766|                 5.0|160.14508771929826| 4.351315789473685| 0.611335896989019|                4.45| 0.3737315789473684|       19.344086021505376|       85.25690662043273|                        5.0|       7268.740126485187|        4.426612903225806|       0.6126889133954948|                        4.6|     0.37538770459775217|\n",
      "|    4.5|   10.0|  9096.0|               0.45| 25.67391304347826| 95.98604622669961|                 7.0| 9213.321070234115| 4.320652173913043|0.7231703770005008|                 4.5| 0.5229753941710464|       20.852664576802507|       67.97414032336488|                        5.0|       4620.483752700499|        4.353134796238241|       0.6865936787945498|                        4.5|      0.4714108797606334|\n",
      "|    4.0|    1.0|11715.12|                4.0| 25.67391304347826| 95.98604622669961|                 7.0| 9213.321070234115| 4.320652173913043|0.7231703770005008|                 4.5| 0.5229753941710464|       20.852664576802507|       67.97414032336488|                        5.0|       4620.483752700499|        4.353134796238241|       0.6865936787945498|                        4.5|      0.4714108797606334|\n",
      "|    5.0|    1.0|  9984.0|                5.0| 46.01934235976789|126.70492950170406|                 7.0|16054.139160031795|4.2036750483558984|0.6898812073453675|                 4.3|0.47593608024830203|        53.62535612535613|      184.65946013615434|                        8.0|       34099.11621777597|        4.223789173789173|       0.6641123781268817|                        4.3|      0.4410452507813424|\n",
      "|    5.0|    1.0|  8999.0|                5.0|10.213675213675213| 23.37649641665952|                 4.0| 546.4605847180953|  4.49871794871795| 0.699324061706453|                 4.7| 0.4890541432816109|       19.344086021505376|       85.25690662043273|                        5.0|       7268.740126485187|        4.426612903225806|       0.6126889133954948|                        4.6|     0.37538770459775217|\n",
      "+-------+-------+--------+-------------------+------------------+------------------+--------------------+------------------+------------------+------------------+--------------------+-------------------+-------------------------+------------------------+---------------------------+------------------------+-------------------------+-------------------------+---------------------------+------------------------+\n",
      "\n"
     ]
    }
   ],
   "source": [
    "exp_book = spark_train.filter(\"price > 8000\")\n",
    "exp_book.show()"
   ]
  },
  {
   "cell_type": "markdown",
   "metadata": {},
   "source": [
    "### Machine Learning Pipeline with Spark :joy:"
   ]
  },
  {
   "cell_type": "code",
   "execution_count": 107,
   "metadata": {},
   "outputs": [
    {
     "data": {
      "text/plain": [
       "DataFrame[Reviews: double, Ratings: double, Price: double, SignificantScore: double, mean_Genre_Ratings: double, std_Genre_Ratings: double, median_Genre_Ratings: double, var_Genre_Ratings: double, mean_Genre_Reviews: double, std_Genre_Reviews: double, median_Genre_Reviews: double, var_Genre_Reviews: double, mean_BookCategory_Ratings: double, std_BookCategory_Ratings: double, median_BookCategory_Ratings: double, var_BookCategory_Ratings: double, mean_BookCategory_Reviews: double, std_BookCategorye_Reviews: double, median_BookCategory_Reviews: double, var_BookCategory_Reviews: double, Review: int]"
      ]
     },
     "execution_count": 107,
     "metadata": {},
     "output_type": "execute_result"
    }
   ],
   "source": [
    "spark_train.withColumn('Review', spark_train.Reviews.cast('integer'))"
   ]
  },
  {
   "cell_type": "code",
   "execution_count": 109,
   "metadata": {},
   "outputs": [
    {
     "data": {
      "text/plain": [
       "DataFrame[Reviews: double, Ratings: double, Price: double, SignificantScore: double, mean_Genre_Ratings: double, std_Genre_Ratings: double, median_Genre_Ratings: double, var_Genre_Ratings: double, mean_Genre_Reviews: double, std_Genre_Reviews: double, median_Genre_Reviews: double, var_Genre_Reviews: double, mean_BookCategory_Ratings: double, std_BookCategory_Ratings: double, median_BookCategory_Ratings: double, var_BookCategory_Ratings: double, mean_BookCategory_Reviews: double, std_BookCategorye_Reviews: double, median_BookCategory_Reviews: double, var_BookCategory_Reviews: double]"
      ]
     },
     "execution_count": 109,
     "metadata": {},
     "output_type": "execute_result"
    }
   ],
   "source": [
    "spark_train.drop('Review')"
   ]
  },
  {
   "cell_type": "code",
   "execution_count": 110,
   "metadata": {},
   "outputs": [],
   "source": [
    "spark_train = spark_train.withColumn('Reviews', spark_train.Reviews.cast('integer'))\n",
    "spark_test = spark_test.withColumn('Reviews', spark_test.Reviews.cast('integer'))"
   ]
  },
  {
   "cell_type": "code",
   "execution_count": 111,
   "metadata": {},
   "outputs": [
    {
     "data": {
      "text/plain": [
       "Index(['Reviews', 'Ratings', 'Price', 'SignificantScore', 'mean_Genre_Ratings',\n",
       "       'std_Genre_Ratings', 'median_Genre_Ratings', 'var_Genre_Ratings',\n",
       "       'mean_Genre_Reviews', 'std_Genre_Reviews', 'median_Genre_Reviews',\n",
       "       'var_Genre_Reviews', 'mean_BookCategory_Ratings',\n",
       "       'std_BookCategory_Ratings', 'median_BookCategory_Ratings',\n",
       "       'var_BookCategory_Ratings', 'mean_BookCategory_Reviews',\n",
       "       'std_BookCategorye_Reviews', 'median_BookCategory_Reviews',\n",
       "       'var_BookCategory_Reviews'],\n",
       "      dtype='object')"
      ]
     },
     "execution_count": 111,
     "metadata": {},
     "output_type": "execute_result"
    }
   ],
   "source": [
    "train.columns"
   ]
  },
  {
   "cell_type": "code",
   "execution_count": 112,
   "metadata": {},
   "outputs": [],
   "source": [
    "# Assemble a Vector \n",
    "from pyspark.ml.feature import VectorAssembler\n",
    "from pyspark.ml.feature import Normalizer\n",
    "from pyspark.ml import Pipeline\n",
    "\n",
    "# make a vector assembler\n",
    "vec_assembler = VectorAssembler(inputCols=['Reviews', 'Ratings', 'SignificantScore', 'mean_Genre_Ratings',\n",
    "       'std_Genre_Ratings', 'median_Genre_Ratings', 'var_Genre_Ratings',\n",
    "       'mean_Genre_Reviews', 'std_Genre_Reviews', 'median_Genre_Reviews',\n",
    "       'var_Genre_Reviews', 'mean_BookCategory_Ratings',\n",
    "       'std_BookCategory_Ratings', 'median_BookCategory_Ratings',\n",
    "       'var_BookCategory_Ratings', 'mean_BookCategory_Reviews',\n",
    "       'std_BookCategorye_Reviews', 'median_BookCategory_Reviews',\n",
    "       'var_BookCategory_Reviews'],\n",
    "                                outputCol='features')"
   ]
  },
  {
   "cell_type": "code",
   "execution_count": 113,
   "metadata": {},
   "outputs": [],
   "source": [
    "normalizer_lr = Normalizer(inputCol='features', outputCol='features_norm')"
   ]
  },
  {
   "cell_type": "code",
   "execution_count": 114,
   "metadata": {},
   "outputs": [],
   "source": [
    "def regression_metrics(prediction):\n",
    "    from pyspark.ml.evaluation import RegressionEvaluator\n",
    "    evaluator = RegressionEvaluator(\n",
    "    labelCol=\"Price\", predictionCol=\"prediction\", metricName=\"rmse\")\n",
    "    rmse = evaluator.evaluate(prediction)\n",
    "    print(\"RMSE on test data = %g\" % rmse)"
   ]
  },
  {
   "cell_type": "code",
   "execution_count": 115,
   "metadata": {},
   "outputs": [],
   "source": [
    "df_train, df_test = spark_train.randomSplit([0.8, 0.2])"
   ]
  },
  {
   "cell_type": "code",
   "execution_count": 117,
   "metadata": {},
   "outputs": [
    {
     "data": {
      "text/plain": [
       "4979"
      ]
     },
     "execution_count": 117,
     "metadata": {},
     "output_type": "execute_result"
    }
   ],
   "source": [
    "df_train.count()"
   ]
  },
  {
   "cell_type": "code",
   "execution_count": 119,
   "metadata": {},
   "outputs": [
    {
     "data": {
      "text/plain": [
       "(1258, 1560)"
      ]
     },
     "execution_count": 119,
     "metadata": {},
     "output_type": "execute_result"
    }
   ],
   "source": [
    "df_test.count(), spark_test.count()"
   ]
  },
  {
   "cell_type": "code",
   "execution_count": 120,
   "metadata": {},
   "outputs": [
    {
     "name": "stdout",
     "output_type": "stream",
     "text": [
      "RMSE on test data = 495.796\n"
     ]
    }
   ],
   "source": [
    "#LR1 without d normalized data\n",
    "\n",
    "from pyspark.ml.regression import LinearRegression\n",
    "\n",
    "lr = LinearRegression(labelCol=\"Price\", featuresCol='features', maxIter=100, regParam=0.0, elasticNetParam=0.0)\n",
    "pipeline = Pipeline(stages=[vec_assembler, normalizer_lr, lr])\n",
    "model = pipeline.fit(df_train)\n",
    "prediction = model.transform(df_test)\n",
    "regression_metrics(prediction)"
   ]
  },
  {
   "cell_type": "code",
   "execution_count": 121,
   "metadata": {},
   "outputs": [
    {
     "name": "stdout",
     "output_type": "stream",
     "text": [
      "RMSE on test data = 496.318\n"
     ]
    }
   ],
   "source": [
    "#LR1 with d normalized data\n",
    "\n",
    "from pyspark.ml.regression import LinearRegression\n",
    "\n",
    "lr = LinearRegression(labelCol=\"Price\", featuresCol='features_norm', maxIter=100, regParam=0.0, elasticNetParam=0.0)\n",
    "pipeline = Pipeline(stages=[vec_assembler, normalizer_lr, lr])\n",
    "model = pipeline.fit(df_train)\n",
    "prediction = model.transform(df_test)\n",
    "regression_metrics(prediction)"
   ]
  },
  {
   "cell_type": "code",
   "execution_count": 129,
   "metadata": {},
   "outputs": [
    {
     "name": "stdout",
     "output_type": "stream",
     "text": [
      "Column<b'prediciton[values]'>\n"
     ]
    }
   ],
   "source": [
    "import pyspark.sql.functions as F\n",
    "print(F.col('prediciton').values)"
   ]
  },
  {
   "cell_type": "code",
   "execution_count": 130,
   "metadata": {},
   "outputs": [
    {
     "data": {
      "text/plain": [
       "DataFrame[prediction: double]"
      ]
     },
     "execution_count": 130,
     "metadata": {},
     "output_type": "execute_result"
    }
   ],
   "source": [
    "pred = prediction.select('prediction')\n",
    "pred"
   ]
  },
  {
   "cell_type": "code",
   "execution_count": 135,
   "metadata": {},
   "outputs": [
    {
     "ename": "Py4JNetworkError",
     "evalue": "An error occurred while trying to connect to the Java server (127.0.0.1:49507)",
     "output_type": "error",
     "traceback": [
      "\u001b[1;31m---------------------------------------------------------------------------\u001b[0m",
      "\u001b[1;31mIndexError\u001b[0m                                Traceback (most recent call last)",
      "\u001b[1;32m~\\Desktop\\spark\\spark-2.4.4-bin-hadoop2.7\\python\\lib\\py4j-0.10.7-src.zip\\py4j\\java_gateway.py\u001b[0m in \u001b[0;36m_get_connection\u001b[1;34m(self)\u001b[0m\n\u001b[0;32m    928\u001b[0m         \u001b[1;32mtry\u001b[0m\u001b[1;33m:\u001b[0m\u001b[1;33m\u001b[0m\u001b[1;33m\u001b[0m\u001b[0m\n\u001b[1;32m--> 929\u001b[1;33m             \u001b[0mconnection\u001b[0m \u001b[1;33m=\u001b[0m \u001b[0mself\u001b[0m\u001b[1;33m.\u001b[0m\u001b[0mdeque\u001b[0m\u001b[1;33m.\u001b[0m\u001b[0mpop\u001b[0m\u001b[1;33m(\u001b[0m\u001b[1;33m)\u001b[0m\u001b[1;33m\u001b[0m\u001b[1;33m\u001b[0m\u001b[0m\n\u001b[0m\u001b[0;32m    930\u001b[0m         \u001b[1;32mexcept\u001b[0m \u001b[0mIndexError\u001b[0m\u001b[1;33m:\u001b[0m\u001b[1;33m\u001b[0m\u001b[1;33m\u001b[0m\u001b[0m\n",
      "\u001b[1;31mIndexError\u001b[0m: pop from an empty deque",
      "\nDuring handling of the above exception, another exception occurred:\n",
      "\u001b[1;31mConnectionRefusedError\u001b[0m                    Traceback (most recent call last)",
      "\u001b[1;32m~\\Desktop\\spark\\spark-2.4.4-bin-hadoop2.7\\python\\lib\\py4j-0.10.7-src.zip\\py4j\\java_gateway.py\u001b[0m in \u001b[0;36mstart\u001b[1;34m(self)\u001b[0m\n\u001b[0;32m   1066\u001b[0m         \u001b[1;32mtry\u001b[0m\u001b[1;33m:\u001b[0m\u001b[1;33m\u001b[0m\u001b[1;33m\u001b[0m\u001b[0m\n\u001b[1;32m-> 1067\u001b[1;33m             \u001b[0mself\u001b[0m\u001b[1;33m.\u001b[0m\u001b[0msocket\u001b[0m\u001b[1;33m.\u001b[0m\u001b[0mconnect\u001b[0m\u001b[1;33m(\u001b[0m\u001b[1;33m(\u001b[0m\u001b[0mself\u001b[0m\u001b[1;33m.\u001b[0m\u001b[0maddress\u001b[0m\u001b[1;33m,\u001b[0m \u001b[0mself\u001b[0m\u001b[1;33m.\u001b[0m\u001b[0mport\u001b[0m\u001b[1;33m)\u001b[0m\u001b[1;33m)\u001b[0m\u001b[1;33m\u001b[0m\u001b[1;33m\u001b[0m\u001b[0m\n\u001b[0m\u001b[0;32m   1068\u001b[0m             \u001b[0mself\u001b[0m\u001b[1;33m.\u001b[0m\u001b[0mstream\u001b[0m \u001b[1;33m=\u001b[0m \u001b[0mself\u001b[0m\u001b[1;33m.\u001b[0m\u001b[0msocket\u001b[0m\u001b[1;33m.\u001b[0m\u001b[0mmakefile\u001b[0m\u001b[1;33m(\u001b[0m\u001b[1;34m\"rb\"\u001b[0m\u001b[1;33m)\u001b[0m\u001b[1;33m\u001b[0m\u001b[1;33m\u001b[0m\u001b[0m\n",
      "\u001b[1;31mConnectionRefusedError\u001b[0m: [WinError 10061] No connection could be made because the target machine actively refused it",
      "\nDuring handling of the above exception, another exception occurred:\n",
      "\u001b[1;31mPy4JNetworkError\u001b[0m                          Traceback (most recent call last)",
      "\u001b[1;32m<ipython-input-135-e01c066de6a0>\u001b[0m in \u001b[0;36m<module>\u001b[1;34m\u001b[0m\n\u001b[0;32m      2\u001b[0m \u001b[1;33m\u001b[0m\u001b[0m\n\u001b[0;32m      3\u001b[0m \u001b[1;32mfrom\u001b[0m \u001b[0mpyspark\u001b[0m\u001b[1;33m.\u001b[0m\u001b[0mml\u001b[0m\u001b[1;33m.\u001b[0m\u001b[0mregression\u001b[0m \u001b[1;32mimport\u001b[0m \u001b[0mGBTRegressor\u001b[0m\u001b[1;33m\u001b[0m\u001b[1;33m\u001b[0m\u001b[0m\n\u001b[1;32m----> 4\u001b[1;33m \u001b[0mgbt\u001b[0m \u001b[1;33m=\u001b[0m \u001b[0mGBTRegressor\u001b[0m\u001b[1;33m(\u001b[0m\u001b[0mlabelCol\u001b[0m\u001b[1;33m=\u001b[0m\u001b[1;34m\"Price\"\u001b[0m\u001b[1;33m,\u001b[0m \u001b[0mmaxIter\u001b[0m\u001b[1;33m=\u001b[0m\u001b[1;36m40\u001b[0m\u001b[1;33m)\u001b[0m\u001b[1;33m\u001b[0m\u001b[1;33m\u001b[0m\u001b[0m\n\u001b[0m\u001b[0;32m      5\u001b[0m \u001b[0mpipeline\u001b[0m \u001b[1;33m=\u001b[0m \u001b[0mPipeline\u001b[0m\u001b[1;33m(\u001b[0m\u001b[0mstages\u001b[0m\u001b[1;33m=\u001b[0m\u001b[1;33m[\u001b[0m\u001b[0mvec_assembler\u001b[0m\u001b[1;33m,\u001b[0m \u001b[0mnormalizer_lr\u001b[0m\u001b[1;33m,\u001b[0m \u001b[0mgbt\u001b[0m\u001b[1;33m]\u001b[0m\u001b[1;33m)\u001b[0m\u001b[1;33m\u001b[0m\u001b[1;33m\u001b[0m\u001b[0m\n\u001b[0;32m      6\u001b[0m \u001b[0mmodel\u001b[0m \u001b[1;33m=\u001b[0m \u001b[0mpipeline\u001b[0m\u001b[1;33m.\u001b[0m\u001b[0mfit\u001b[0m\u001b[1;33m(\u001b[0m\u001b[0mdf_train\u001b[0m\u001b[1;33m)\u001b[0m\u001b[1;33m\u001b[0m\u001b[1;33m\u001b[0m\u001b[0m\n",
      "\u001b[1;32m~\\Desktop\\spark\\spark-2.4.4-bin-hadoop2.7\\python\\pyspark\\__init__.py\u001b[0m in \u001b[0;36mwrapper\u001b[1;34m(self, *args, **kwargs)\u001b[0m\n\u001b[0;32m    108\u001b[0m             \u001b[1;32mraise\u001b[0m \u001b[0mTypeError\u001b[0m\u001b[1;33m(\u001b[0m\u001b[1;34m\"Method %s forces keyword arguments.\"\u001b[0m \u001b[1;33m%\u001b[0m \u001b[0mfunc\u001b[0m\u001b[1;33m.\u001b[0m\u001b[0m__name__\u001b[0m\u001b[1;33m)\u001b[0m\u001b[1;33m\u001b[0m\u001b[1;33m\u001b[0m\u001b[0m\n\u001b[0;32m    109\u001b[0m         \u001b[0mself\u001b[0m\u001b[1;33m.\u001b[0m\u001b[0m_input_kwargs\u001b[0m \u001b[1;33m=\u001b[0m \u001b[0mkwargs\u001b[0m\u001b[1;33m\u001b[0m\u001b[1;33m\u001b[0m\u001b[0m\n\u001b[1;32m--> 110\u001b[1;33m         \u001b[1;32mreturn\u001b[0m \u001b[0mfunc\u001b[0m\u001b[1;33m(\u001b[0m\u001b[0mself\u001b[0m\u001b[1;33m,\u001b[0m \u001b[1;33m**\u001b[0m\u001b[0mkwargs\u001b[0m\u001b[1;33m)\u001b[0m\u001b[1;33m\u001b[0m\u001b[1;33m\u001b[0m\u001b[0m\n\u001b[0m\u001b[0;32m    111\u001b[0m     \u001b[1;32mreturn\u001b[0m \u001b[0mwrapper\u001b[0m\u001b[1;33m\u001b[0m\u001b[1;33m\u001b[0m\u001b[0m\n\u001b[0;32m    112\u001b[0m \u001b[1;33m\u001b[0m\u001b[0m\n",
      "\u001b[1;32m~\\Desktop\\spark\\spark-2.4.4-bin-hadoop2.7\\python\\pyspark\\ml\\regression.py\u001b[0m in \u001b[0;36m__init__\u001b[1;34m(self, featuresCol, labelCol, predictionCol, maxDepth, maxBins, minInstancesPerNode, minInfoGain, maxMemoryInMB, cacheNodeIds, subsamplingRate, checkpointInterval, lossType, maxIter, stepSize, seed, impurity, featureSubsetStrategy)\u001b[0m\n\u001b[0;32m   1108\u001b[0m         \"\"\"\n\u001b[0;32m   1109\u001b[0m         \u001b[0msuper\u001b[0m\u001b[1;33m(\u001b[0m\u001b[0mGBTRegressor\u001b[0m\u001b[1;33m,\u001b[0m \u001b[0mself\u001b[0m\u001b[1;33m)\u001b[0m\u001b[1;33m.\u001b[0m\u001b[0m__init__\u001b[0m\u001b[1;33m(\u001b[0m\u001b[1;33m)\u001b[0m\u001b[1;33m\u001b[0m\u001b[1;33m\u001b[0m\u001b[0m\n\u001b[1;32m-> 1110\u001b[1;33m         \u001b[0mself\u001b[0m\u001b[1;33m.\u001b[0m\u001b[0m_java_obj\u001b[0m \u001b[1;33m=\u001b[0m \u001b[0mself\u001b[0m\u001b[1;33m.\u001b[0m\u001b[0m_new_java_obj\u001b[0m\u001b[1;33m(\u001b[0m\u001b[1;34m\"org.apache.spark.ml.regression.GBTRegressor\"\u001b[0m\u001b[1;33m,\u001b[0m \u001b[0mself\u001b[0m\u001b[1;33m.\u001b[0m\u001b[0muid\u001b[0m\u001b[1;33m)\u001b[0m\u001b[1;33m\u001b[0m\u001b[1;33m\u001b[0m\u001b[0m\n\u001b[0m\u001b[0;32m   1111\u001b[0m         self._setDefault(maxDepth=5, maxBins=32, minInstancesPerNode=1, minInfoGain=0.0,\n\u001b[0;32m   1112\u001b[0m                          \u001b[0mmaxMemoryInMB\u001b[0m\u001b[1;33m=\u001b[0m\u001b[1;36m256\u001b[0m\u001b[1;33m,\u001b[0m \u001b[0mcacheNodeIds\u001b[0m\u001b[1;33m=\u001b[0m\u001b[1;32mFalse\u001b[0m\u001b[1;33m,\u001b[0m \u001b[0msubsamplingRate\u001b[0m\u001b[1;33m=\u001b[0m\u001b[1;36m1.0\u001b[0m\u001b[1;33m,\u001b[0m\u001b[1;33m\u001b[0m\u001b[1;33m\u001b[0m\u001b[0m\n",
      "\u001b[1;32m~\\Desktop\\spark\\spark-2.4.4-bin-hadoop2.7\\python\\pyspark\\ml\\wrapper.py\u001b[0m in \u001b[0;36m_new_java_obj\u001b[1;34m(java_class, *args)\u001b[0m\n\u001b[0;32m     63\u001b[0m         \u001b[0mjava_obj\u001b[0m \u001b[1;33m=\u001b[0m \u001b[0m_jvm\u001b[0m\u001b[1;33m(\u001b[0m\u001b[1;33m)\u001b[0m\u001b[1;33m\u001b[0m\u001b[1;33m\u001b[0m\u001b[0m\n\u001b[0;32m     64\u001b[0m         \u001b[1;32mfor\u001b[0m \u001b[0mname\u001b[0m \u001b[1;32min\u001b[0m \u001b[0mjava_class\u001b[0m\u001b[1;33m.\u001b[0m\u001b[0msplit\u001b[0m\u001b[1;33m(\u001b[0m\u001b[1;34m\".\"\u001b[0m\u001b[1;33m)\u001b[0m\u001b[1;33m:\u001b[0m\u001b[1;33m\u001b[0m\u001b[1;33m\u001b[0m\u001b[0m\n\u001b[1;32m---> 65\u001b[1;33m             \u001b[0mjava_obj\u001b[0m \u001b[1;33m=\u001b[0m \u001b[0mgetattr\u001b[0m\u001b[1;33m(\u001b[0m\u001b[0mjava_obj\u001b[0m\u001b[1;33m,\u001b[0m \u001b[0mname\u001b[0m\u001b[1;33m)\u001b[0m\u001b[1;33m\u001b[0m\u001b[1;33m\u001b[0m\u001b[0m\n\u001b[0m\u001b[0;32m     66\u001b[0m         \u001b[0mjava_args\u001b[0m \u001b[1;33m=\u001b[0m \u001b[1;33m[\u001b[0m\u001b[0m_py2java\u001b[0m\u001b[1;33m(\u001b[0m\u001b[0msc\u001b[0m\u001b[1;33m,\u001b[0m \u001b[0marg\u001b[0m\u001b[1;33m)\u001b[0m \u001b[1;32mfor\u001b[0m \u001b[0marg\u001b[0m \u001b[1;32min\u001b[0m \u001b[0margs\u001b[0m\u001b[1;33m]\u001b[0m\u001b[1;33m\u001b[0m\u001b[1;33m\u001b[0m\u001b[0m\n\u001b[0;32m     67\u001b[0m         \u001b[1;32mreturn\u001b[0m \u001b[0mjava_obj\u001b[0m\u001b[1;33m(\u001b[0m\u001b[1;33m*\u001b[0m\u001b[0mjava_args\u001b[0m\u001b[1;33m)\u001b[0m\u001b[1;33m\u001b[0m\u001b[1;33m\u001b[0m\u001b[0m\n",
      "\u001b[1;32m~\\Desktop\\spark\\spark-2.4.4-bin-hadoop2.7\\python\\lib\\py4j-0.10.7-src.zip\\py4j\\java_gateway.py\u001b[0m in \u001b[0;36m__getattr__\u001b[1;34m(self, name)\u001b[0m\n\u001b[0;32m   1647\u001b[0m             \u001b[0mproto\u001b[0m\u001b[1;33m.\u001b[0m\u001b[0mREFLECTION_COMMAND_NAME\u001b[0m \u001b[1;33m+\u001b[0m\u001b[1;33m\u001b[0m\u001b[1;33m\u001b[0m\u001b[0m\n\u001b[0;32m   1648\u001b[0m             \u001b[0mproto\u001b[0m\u001b[1;33m.\u001b[0m\u001b[0mREFL_GET_UNKNOWN_SUB_COMMAND_NAME\u001b[0m \u001b[1;33m+\u001b[0m \u001b[0mname\u001b[0m \u001b[1;33m+\u001b[0m \u001b[1;34m\"\\n\"\u001b[0m \u001b[1;33m+\u001b[0m \u001b[0mself\u001b[0m\u001b[1;33m.\u001b[0m\u001b[0m_id\u001b[0m \u001b[1;33m+\u001b[0m\u001b[1;33m\u001b[0m\u001b[1;33m\u001b[0m\u001b[0m\n\u001b[1;32m-> 1649\u001b[1;33m             \"\\n\" + proto.END_COMMAND_PART)\n\u001b[0m\u001b[0;32m   1650\u001b[0m         \u001b[1;32mif\u001b[0m \u001b[0manswer\u001b[0m \u001b[1;33m==\u001b[0m \u001b[0mproto\u001b[0m\u001b[1;33m.\u001b[0m\u001b[0mSUCCESS_PACKAGE\u001b[0m\u001b[1;33m:\u001b[0m\u001b[1;33m\u001b[0m\u001b[1;33m\u001b[0m\u001b[0m\n\u001b[0;32m   1651\u001b[0m             \u001b[1;32mreturn\u001b[0m \u001b[0mJavaPackage\u001b[0m\u001b[1;33m(\u001b[0m\u001b[0mname\u001b[0m\u001b[1;33m,\u001b[0m \u001b[0mself\u001b[0m\u001b[1;33m.\u001b[0m\u001b[0m_gateway_client\u001b[0m\u001b[1;33m,\u001b[0m \u001b[0mjvm_id\u001b[0m\u001b[1;33m=\u001b[0m\u001b[0mself\u001b[0m\u001b[1;33m.\u001b[0m\u001b[0m_id\u001b[0m\u001b[1;33m)\u001b[0m\u001b[1;33m\u001b[0m\u001b[1;33m\u001b[0m\u001b[0m\n",
      "\u001b[1;32m~\\Desktop\\spark\\spark-2.4.4-bin-hadoop2.7\\python\\lib\\py4j-0.10.7-src.zip\\py4j\\java_gateway.py\u001b[0m in \u001b[0;36msend_command\u001b[1;34m(self, command, retry, binary)\u001b[0m\n\u001b[0;32m    981\u001b[0m          \u001b[1;32mif\u001b[0m\u001b[0;31m \u001b[0m\u001b[0;31m`\u001b[0m\u001b[0mbinary\u001b[0m\u001b[0;31m`\u001b[0m \u001b[1;32mis\u001b[0m\u001b[0;31m \u001b[0m\u001b[0;31m`\u001b[0m\u001b[1;32mTrue\u001b[0m\u001b[0;31m`\u001b[0m\u001b[1;33m.\u001b[0m\u001b[1;33m\u001b[0m\u001b[1;33m\u001b[0m\u001b[0m\n\u001b[0;32m    982\u001b[0m         \"\"\"\n\u001b[1;32m--> 983\u001b[1;33m         \u001b[0mconnection\u001b[0m \u001b[1;33m=\u001b[0m \u001b[0mself\u001b[0m\u001b[1;33m.\u001b[0m\u001b[0m_get_connection\u001b[0m\u001b[1;33m(\u001b[0m\u001b[1;33m)\u001b[0m\u001b[1;33m\u001b[0m\u001b[1;33m\u001b[0m\u001b[0m\n\u001b[0m\u001b[0;32m    984\u001b[0m         \u001b[1;32mtry\u001b[0m\u001b[1;33m:\u001b[0m\u001b[1;33m\u001b[0m\u001b[1;33m\u001b[0m\u001b[0m\n\u001b[0;32m    985\u001b[0m             \u001b[0mresponse\u001b[0m \u001b[1;33m=\u001b[0m \u001b[0mconnection\u001b[0m\u001b[1;33m.\u001b[0m\u001b[0msend_command\u001b[0m\u001b[1;33m(\u001b[0m\u001b[0mcommand\u001b[0m\u001b[1;33m)\u001b[0m\u001b[1;33m\u001b[0m\u001b[1;33m\u001b[0m\u001b[0m\n",
      "\u001b[1;32m~\\Desktop\\spark\\spark-2.4.4-bin-hadoop2.7\\python\\lib\\py4j-0.10.7-src.zip\\py4j\\java_gateway.py\u001b[0m in \u001b[0;36m_get_connection\u001b[1;34m(self)\u001b[0m\n\u001b[0;32m    929\u001b[0m             \u001b[0mconnection\u001b[0m \u001b[1;33m=\u001b[0m \u001b[0mself\u001b[0m\u001b[1;33m.\u001b[0m\u001b[0mdeque\u001b[0m\u001b[1;33m.\u001b[0m\u001b[0mpop\u001b[0m\u001b[1;33m(\u001b[0m\u001b[1;33m)\u001b[0m\u001b[1;33m\u001b[0m\u001b[1;33m\u001b[0m\u001b[0m\n\u001b[0;32m    930\u001b[0m         \u001b[1;32mexcept\u001b[0m \u001b[0mIndexError\u001b[0m\u001b[1;33m:\u001b[0m\u001b[1;33m\u001b[0m\u001b[1;33m\u001b[0m\u001b[0m\n\u001b[1;32m--> 931\u001b[1;33m             \u001b[0mconnection\u001b[0m \u001b[1;33m=\u001b[0m \u001b[0mself\u001b[0m\u001b[1;33m.\u001b[0m\u001b[0m_create_connection\u001b[0m\u001b[1;33m(\u001b[0m\u001b[1;33m)\u001b[0m\u001b[1;33m\u001b[0m\u001b[1;33m\u001b[0m\u001b[0m\n\u001b[0m\u001b[0;32m    932\u001b[0m         \u001b[1;32mreturn\u001b[0m \u001b[0mconnection\u001b[0m\u001b[1;33m\u001b[0m\u001b[1;33m\u001b[0m\u001b[0m\n\u001b[0;32m    933\u001b[0m \u001b[1;33m\u001b[0m\u001b[0m\n",
      "\u001b[1;32m~\\Desktop\\spark\\spark-2.4.4-bin-hadoop2.7\\python\\lib\\py4j-0.10.7-src.zip\\py4j\\java_gateway.py\u001b[0m in \u001b[0;36m_create_connection\u001b[1;34m(self)\u001b[0m\n\u001b[0;32m    935\u001b[0m         connection = GatewayConnection(\n\u001b[0;32m    936\u001b[0m             self.gateway_parameters, self.gateway_property)\n\u001b[1;32m--> 937\u001b[1;33m         \u001b[0mconnection\u001b[0m\u001b[1;33m.\u001b[0m\u001b[0mstart\u001b[0m\u001b[1;33m(\u001b[0m\u001b[1;33m)\u001b[0m\u001b[1;33m\u001b[0m\u001b[1;33m\u001b[0m\u001b[0m\n\u001b[0m\u001b[0;32m    938\u001b[0m         \u001b[1;32mreturn\u001b[0m \u001b[0mconnection\u001b[0m\u001b[1;33m\u001b[0m\u001b[1;33m\u001b[0m\u001b[0m\n\u001b[0;32m    939\u001b[0m \u001b[1;33m\u001b[0m\u001b[0m\n",
      "\u001b[1;32m~\\Desktop\\spark\\spark-2.4.4-bin-hadoop2.7\\python\\lib\\py4j-0.10.7-src.zip\\py4j\\java_gateway.py\u001b[0m in \u001b[0;36mstart\u001b[1;34m(self)\u001b[0m\n\u001b[0;32m   1077\u001b[0m                 \u001b[1;34m\"server ({0}:{1})\"\u001b[0m\u001b[1;33m.\u001b[0m\u001b[0mformat\u001b[0m\u001b[1;33m(\u001b[0m\u001b[0mself\u001b[0m\u001b[1;33m.\u001b[0m\u001b[0maddress\u001b[0m\u001b[1;33m,\u001b[0m \u001b[0mself\u001b[0m\u001b[1;33m.\u001b[0m\u001b[0mport\u001b[0m\u001b[1;33m)\u001b[0m\u001b[1;33m\u001b[0m\u001b[1;33m\u001b[0m\u001b[0m\n\u001b[0;32m   1078\u001b[0m             \u001b[0mlogger\u001b[0m\u001b[1;33m.\u001b[0m\u001b[0mexception\u001b[0m\u001b[1;33m(\u001b[0m\u001b[0mmsg\u001b[0m\u001b[1;33m)\u001b[0m\u001b[1;33m\u001b[0m\u001b[1;33m\u001b[0m\u001b[0m\n\u001b[1;32m-> 1079\u001b[1;33m             \u001b[1;32mraise\u001b[0m \u001b[0mPy4JNetworkError\u001b[0m\u001b[1;33m(\u001b[0m\u001b[0mmsg\u001b[0m\u001b[1;33m,\u001b[0m \u001b[0me\u001b[0m\u001b[1;33m)\u001b[0m\u001b[1;33m\u001b[0m\u001b[1;33m\u001b[0m\u001b[0m\n\u001b[0m\u001b[0;32m   1080\u001b[0m \u001b[1;33m\u001b[0m\u001b[0m\n\u001b[0;32m   1081\u001b[0m     \u001b[1;32mdef\u001b[0m \u001b[0m_authenticate_connection\u001b[0m\u001b[1;33m(\u001b[0m\u001b[0mself\u001b[0m\u001b[1;33m)\u001b[0m\u001b[1;33m:\u001b[0m\u001b[1;33m\u001b[0m\u001b[1;33m\u001b[0m\u001b[0m\n",
      "\u001b[1;31mPy4JNetworkError\u001b[0m: An error occurred while trying to connect to the Java server (127.0.0.1:49507)"
     ]
    }
   ],
   "source": [
    "#GBT1\n",
    "\n",
    "from pyspark.ml.regression import GBTRegressor\n",
    "gbt = GBTRegressor(labelCol=\"Price\", maxIter=40)\n",
    "pipeline = Pipeline(stages=[vec_assembler, normalizer_lr, gbt])\n",
    "model = pipeline.fit(df_train)\n",
    "prediction = model.transform(df_test)\n",
    "regression_metrics(prediction)"
   ]
  },
  {
   "cell_type": "code",
   "execution_count": null,
   "metadata": {},
   "outputs": [],
   "source": []
  },
  {
   "cell_type": "code",
   "execution_count": null,
   "metadata": {},
   "outputs": [],
   "source": []
  },
  {
   "cell_type": "code",
   "execution_count": 136,
   "metadata": {},
   "outputs": [
    {
     "name": "stderr",
     "output_type": "stream",
     "text": [
      "ERROR:py4j.java_gateway:An error occurred while trying to connect to the Java server (127.0.0.1:49507)\n",
      "Traceback (most recent call last):\n",
      "  File \"C:\\Users\\ABUTON\\Desktop\\spark\\spark-2.4.4-bin-hadoop2.7\\python\\lib\\py4j-0.10.7-src.zip\\py4j\\java_gateway.py\", line 929, in _get_connection\n",
      "    connection = self.deque.pop()\n",
      "IndexError: pop from an empty deque\n",
      "\n",
      "During handling of the above exception, another exception occurred:\n",
      "\n",
      "Traceback (most recent call last):\n",
      "  File \"C:\\Users\\ABUTON\\Desktop\\spark\\spark-2.4.4-bin-hadoop2.7\\python\\lib\\py4j-0.10.7-src.zip\\py4j\\java_gateway.py\", line 1067, in start\n",
      "    self.socket.connect((self.address, self.port))\n",
      "ConnectionRefusedError: [WinError 10061] No connection could be made because the target machine actively refused it\n",
      "ERROR:py4j.java_gateway:An error occurred while trying to connect to the Java server (127.0.0.1:49507)\n",
      "Traceback (most recent call last):\n",
      "  File \"C:\\Users\\ABUTON\\Desktop\\spark\\spark-2.4.4-bin-hadoop2.7\\python\\lib\\py4j-0.10.7-src.zip\\py4j\\java_gateway.py\", line 929, in _get_connection\n",
      "    connection = self.deque.pop()\n",
      "IndexError: pop from an empty deque\n",
      "\n",
      "During handling of the above exception, another exception occurred:\n",
      "\n",
      "Traceback (most recent call last):\n",
      "  File \"C:\\Users\\ABUTON\\Desktop\\spark\\spark-2.4.4-bin-hadoop2.7\\python\\lib\\py4j-0.10.7-src.zip\\py4j\\java_gateway.py\", line 1067, in start\n",
      "    self.socket.connect((self.address, self.port))\n",
      "ConnectionRefusedError: [WinError 10061] No connection could be made because the target machine actively refused it\n",
      "ERROR:py4j.java_gateway:An error occurred while trying to connect to the Java server (127.0.0.1:49507)\n",
      "Traceback (most recent call last):\n",
      "  File \"C:\\Users\\ABUTON\\Desktop\\spark\\spark-2.4.4-bin-hadoop2.7\\python\\lib\\py4j-0.10.7-src.zip\\py4j\\java_gateway.py\", line 929, in _get_connection\n",
      "    connection = self.deque.pop()\n",
      "IndexError: pop from an empty deque\n",
      "\n",
      "During handling of the above exception, another exception occurred:\n",
      "\n",
      "Traceback (most recent call last):\n",
      "  File \"C:\\Users\\ABUTON\\Desktop\\spark\\spark-2.4.4-bin-hadoop2.7\\python\\lib\\py4j-0.10.7-src.zip\\py4j\\java_gateway.py\", line 1067, in start\n",
      "    self.socket.connect((self.address, self.port))\n",
      "ConnectionRefusedError: [WinError 10061] No connection could be made because the target machine actively refused it\n",
      "ERROR:py4j.java_gateway:An error occurred while trying to connect to the Java server (127.0.0.1:49507)\n",
      "Traceback (most recent call last):\n",
      "  File \"C:\\Users\\ABUTON\\Desktop\\spark\\spark-2.4.4-bin-hadoop2.7\\python\\lib\\py4j-0.10.7-src.zip\\py4j\\java_gateway.py\", line 929, in _get_connection\n",
      "    connection = self.deque.pop()\n",
      "IndexError: pop from an empty deque\n",
      "\n",
      "During handling of the above exception, another exception occurred:\n",
      "\n",
      "Traceback (most recent call last):\n",
      "  File \"C:\\Users\\ABUTON\\Desktop\\spark\\spark-2.4.4-bin-hadoop2.7\\python\\lib\\py4j-0.10.7-src.zip\\py4j\\java_gateway.py\", line 1067, in start\n",
      "    self.socket.connect((self.address, self.port))\n",
      "ConnectionRefusedError: [WinError 10061] No connection could be made because the target machine actively refused it\n",
      "ERROR:py4j.java_gateway:An error occurred while trying to connect to the Java server (127.0.0.1:49507)\n",
      "Traceback (most recent call last):\n",
      "  File \"C:\\Users\\ABUTON\\Desktop\\spark\\spark-2.4.4-bin-hadoop2.7\\python\\lib\\py4j-0.10.7-src.zip\\py4j\\java_gateway.py\", line 929, in _get_connection\n",
      "    connection = self.deque.pop()\n",
      "IndexError: pop from an empty deque\n",
      "\n",
      "During handling of the above exception, another exception occurred:\n",
      "\n",
      "Traceback (most recent call last):\n",
      "  File \"C:\\Users\\ABUTON\\Desktop\\spark\\spark-2.4.4-bin-hadoop2.7\\python\\lib\\py4j-0.10.7-src.zip\\py4j\\java_gateway.py\", line 1067, in start\n",
      "    self.socket.connect((self.address, self.port))\n",
      "ConnectionRefusedError: [WinError 10061] No connection could be made because the target machine actively refused it\n",
      "ERROR:py4j.java_gateway:An error occurred while trying to connect to the Java server (127.0.0.1:49507)\n",
      "Traceback (most recent call last):\n",
      "  File \"C:\\Users\\ABUTON\\Desktop\\spark\\spark-2.4.4-bin-hadoop2.7\\python\\lib\\py4j-0.10.7-src.zip\\py4j\\java_gateway.py\", line 929, in _get_connection\n",
      "    connection = self.deque.pop()\n",
      "IndexError: pop from an empty deque\n",
      "\n",
      "During handling of the above exception, another exception occurred:\n",
      "\n",
      "Traceback (most recent call last):\n",
      "  File \"C:\\Users\\ABUTON\\Desktop\\spark\\spark-2.4.4-bin-hadoop2.7\\python\\lib\\py4j-0.10.7-src.zip\\py4j\\java_gateway.py\", line 1067, in start\n",
      "    self.socket.connect((self.address, self.port))\n",
      "ConnectionRefusedError: [WinError 10061] No connection could be made because the target machine actively refused it\n",
      "ERROR:py4j.java_gateway:An error occurred while trying to connect to the Java server (127.0.0.1:49507)\n",
      "Traceback (most recent call last):\n",
      "  File \"C:\\Users\\ABUTON\\Desktop\\spark\\spark-2.4.4-bin-hadoop2.7\\python\\lib\\py4j-0.10.7-src.zip\\py4j\\java_gateway.py\", line 929, in _get_connection\n",
      "    connection = self.deque.pop()\n",
      "IndexError: pop from an empty deque\n",
      "\n",
      "During handling of the above exception, another exception occurred:\n",
      "\n",
      "Traceback (most recent call last):\n",
      "  File \"C:\\Users\\ABUTON\\Desktop\\spark\\spark-2.4.4-bin-hadoop2.7\\python\\lib\\py4j-0.10.7-src.zip\\py4j\\java_gateway.py\", line 1067, in start\n",
      "    self.socket.connect((self.address, self.port))\n",
      "ConnectionRefusedError: [WinError 10061] No connection could be made because the target machine actively refused it\n",
      "ERROR:py4j.java_gateway:An error occurred while trying to connect to the Java server (127.0.0.1:49507)\n",
      "Traceback (most recent call last):\n",
      "  File \"C:\\Users\\ABUTON\\Desktop\\spark\\spark-2.4.4-bin-hadoop2.7\\python\\lib\\py4j-0.10.7-src.zip\\py4j\\java_gateway.py\", line 929, in _get_connection\n",
      "    connection = self.deque.pop()\n",
      "IndexError: pop from an empty deque\n",
      "\n",
      "During handling of the above exception, another exception occurred:\n",
      "\n",
      "Traceback (most recent call last):\n",
      "  File \"C:\\Users\\ABUTON\\Desktop\\spark\\spark-2.4.4-bin-hadoop2.7\\python\\lib\\py4j-0.10.7-src.zip\\py4j\\java_gateway.py\", line 1067, in start\n",
      "    self.socket.connect((self.address, self.port))\n",
      "ConnectionRefusedError: [WinError 10061] No connection could be made because the target machine actively refused it\n",
      "ERROR:py4j.java_gateway:An error occurred while trying to connect to the Java server (127.0.0.1:49507)\n",
      "Traceback (most recent call last):\n",
      "  File \"C:\\Users\\ABUTON\\Desktop\\spark\\spark-2.4.4-bin-hadoop2.7\\python\\lib\\py4j-0.10.7-src.zip\\py4j\\java_gateway.py\", line 929, in _get_connection\n",
      "    connection = self.deque.pop()\n",
      "IndexError: pop from an empty deque\n",
      "\n",
      "During handling of the above exception, another exception occurred:\n",
      "\n",
      "Traceback (most recent call last):\n",
      "  File \"C:\\Users\\ABUTON\\Desktop\\spark\\spark-2.4.4-bin-hadoop2.7\\python\\lib\\py4j-0.10.7-src.zip\\py4j\\java_gateway.py\", line 1067, in start\n",
      "    self.socket.connect((self.address, self.port))\n",
      "ConnectionRefusedError: [WinError 10061] No connection could be made because the target machine actively refused it\n",
      "ERROR:py4j.java_gateway:An error occurred while trying to connect to the Java server (127.0.0.1:49507)\n",
      "Traceback (most recent call last):\n",
      "  File \"C:\\Users\\ABUTON\\Desktop\\spark\\spark-2.4.4-bin-hadoop2.7\\python\\lib\\py4j-0.10.7-src.zip\\py4j\\java_gateway.py\", line 929, in _get_connection\n",
      "    connection = self.deque.pop()\n",
      "IndexError: pop from an empty deque\n",
      "\n",
      "During handling of the above exception, another exception occurred:\n",
      "\n",
      "Traceback (most recent call last):\n",
      "  File \"C:\\Users\\ABUTON\\Desktop\\spark\\spark-2.4.4-bin-hadoop2.7\\python\\lib\\py4j-0.10.7-src.zip\\py4j\\java_gateway.py\", line 1067, in start\n",
      "    self.socket.connect((self.address, self.port))\n",
      "ConnectionRefusedError: [WinError 10061] No connection could be made because the target machine actively refused it\n",
      "ERROR:py4j.java_gateway:An error occurred while trying to connect to the Java server (127.0.0.1:49507)\n",
      "Traceback (most recent call last):\n",
      "  File \"C:\\Users\\ABUTON\\Desktop\\spark\\spark-2.4.4-bin-hadoop2.7\\python\\lib\\py4j-0.10.7-src.zip\\py4j\\java_gateway.py\", line 929, in _get_connection\n",
      "    connection = self.deque.pop()\n",
      "IndexError: pop from an empty deque\n",
      "\n",
      "During handling of the above exception, another exception occurred:\n",
      "\n",
      "Traceback (most recent call last):\n",
      "  File \"C:\\Users\\ABUTON\\Desktop\\spark\\spark-2.4.4-bin-hadoop2.7\\python\\lib\\py4j-0.10.7-src.zip\\py4j\\java_gateway.py\", line 1067, in start\n",
      "    self.socket.connect((self.address, self.port))\n",
      "ConnectionRefusedError: [WinError 10061] No connection could be made because the target machine actively refused it\n"
     ]
    },
    {
     "name": "stderr",
     "output_type": "stream",
     "text": [
      "ERROR:py4j.java_gateway:An error occurred while trying to connect to the Java server (127.0.0.1:49507)\n",
      "Traceback (most recent call last):\n",
      "  File \"C:\\Users\\ABUTON\\Desktop\\spark\\spark-2.4.4-bin-hadoop2.7\\python\\lib\\py4j-0.10.7-src.zip\\py4j\\java_gateway.py\", line 929, in _get_connection\n",
      "    connection = self.deque.pop()\n",
      "IndexError: pop from an empty deque\n",
      "\n",
      "During handling of the above exception, another exception occurred:\n",
      "\n",
      "Traceback (most recent call last):\n",
      "  File \"C:\\Users\\ABUTON\\Desktop\\spark\\spark-2.4.4-bin-hadoop2.7\\python\\lib\\py4j-0.10.7-src.zip\\py4j\\java_gateway.py\", line 1067, in start\n",
      "    self.socket.connect((self.address, self.port))\n",
      "ConnectionRefusedError: [WinError 10061] No connection could be made because the target machine actively refused it\n",
      "ERROR:py4j.java_gateway:An error occurred while trying to connect to the Java server (127.0.0.1:49507)\n",
      "Traceback (most recent call last):\n",
      "  File \"C:\\Users\\ABUTON\\Desktop\\spark\\spark-2.4.4-bin-hadoop2.7\\python\\lib\\py4j-0.10.7-src.zip\\py4j\\java_gateway.py\", line 929, in _get_connection\n",
      "    connection = self.deque.pop()\n",
      "IndexError: pop from an empty deque\n",
      "\n",
      "During handling of the above exception, another exception occurred:\n",
      "\n",
      "Traceback (most recent call last):\n",
      "  File \"C:\\Users\\ABUTON\\Desktop\\spark\\spark-2.4.4-bin-hadoop2.7\\python\\lib\\py4j-0.10.7-src.zip\\py4j\\java_gateway.py\", line 1067, in start\n",
      "    self.socket.connect((self.address, self.port))\n",
      "ConnectionRefusedError: [WinError 10061] No connection could be made because the target machine actively refused it\n",
      "ERROR:py4j.java_gateway:An error occurred while trying to connect to the Java server (127.0.0.1:49507)\n",
      "Traceback (most recent call last):\n",
      "  File \"C:\\Users\\ABUTON\\Desktop\\spark\\spark-2.4.4-bin-hadoop2.7\\python\\lib\\py4j-0.10.7-src.zip\\py4j\\java_gateway.py\", line 929, in _get_connection\n",
      "    connection = self.deque.pop()\n",
      "IndexError: pop from an empty deque\n",
      "\n",
      "During handling of the above exception, another exception occurred:\n",
      "\n",
      "Traceback (most recent call last):\n",
      "  File \"C:\\Users\\ABUTON\\Desktop\\spark\\spark-2.4.4-bin-hadoop2.7\\python\\lib\\py4j-0.10.7-src.zip\\py4j\\java_gateway.py\", line 1067, in start\n",
      "    self.socket.connect((self.address, self.port))\n",
      "ConnectionRefusedError: [WinError 10061] No connection could be made because the target machine actively refused it\n",
      "ERROR:py4j.java_gateway:An error occurred while trying to connect to the Java server (127.0.0.1:49507)\n",
      "Traceback (most recent call last):\n",
      "  File \"C:\\Users\\ABUTON\\Desktop\\spark\\spark-2.4.4-bin-hadoop2.7\\python\\lib\\py4j-0.10.7-src.zip\\py4j\\java_gateway.py\", line 929, in _get_connection\n",
      "    connection = self.deque.pop()\n",
      "IndexError: pop from an empty deque\n",
      "\n",
      "During handling of the above exception, another exception occurred:\n",
      "\n",
      "Traceback (most recent call last):\n",
      "  File \"C:\\Users\\ABUTON\\Desktop\\spark\\spark-2.4.4-bin-hadoop2.7\\python\\lib\\py4j-0.10.7-src.zip\\py4j\\java_gateway.py\", line 1067, in start\n",
      "    self.socket.connect((self.address, self.port))\n",
      "ConnectionRefusedError: [WinError 10061] No connection could be made because the target machine actively refused it\n",
      "ERROR:py4j.java_gateway:An error occurred while trying to connect to the Java server (127.0.0.1:49507)\n",
      "Traceback (most recent call last):\n",
      "  File \"C:\\Users\\ABUTON\\Desktop\\spark\\spark-2.4.4-bin-hadoop2.7\\python\\lib\\py4j-0.10.7-src.zip\\py4j\\java_gateway.py\", line 929, in _get_connection\n",
      "    connection = self.deque.pop()\n",
      "IndexError: pop from an empty deque\n",
      "\n",
      "During handling of the above exception, another exception occurred:\n",
      "\n",
      "Traceback (most recent call last):\n",
      "  File \"C:\\Users\\ABUTON\\Desktop\\spark\\spark-2.4.4-bin-hadoop2.7\\python\\lib\\py4j-0.10.7-src.zip\\py4j\\java_gateway.py\", line 1067, in start\n",
      "    self.socket.connect((self.address, self.port))\n",
      "ConnectionRefusedError: [WinError 10061] No connection could be made because the target machine actively refused it\n",
      "ERROR:py4j.java_gateway:An error occurred while trying to connect to the Java server (127.0.0.1:49507)\n",
      "Traceback (most recent call last):\n",
      "  File \"C:\\Users\\ABUTON\\Desktop\\spark\\spark-2.4.4-bin-hadoop2.7\\python\\lib\\py4j-0.10.7-src.zip\\py4j\\java_gateway.py\", line 929, in _get_connection\n",
      "    connection = self.deque.pop()\n",
      "IndexError: pop from an empty deque\n",
      "\n",
      "During handling of the above exception, another exception occurred:\n",
      "\n",
      "Traceback (most recent call last):\n",
      "  File \"C:\\Users\\ABUTON\\Desktop\\spark\\spark-2.4.4-bin-hadoop2.7\\python\\lib\\py4j-0.10.7-src.zip\\py4j\\java_gateway.py\", line 1067, in start\n",
      "    self.socket.connect((self.address, self.port))\n",
      "ConnectionRefusedError: [WinError 10061] No connection could be made because the target machine actively refused it\n",
      "ERROR:py4j.java_gateway:An error occurred while trying to connect to the Java server (127.0.0.1:49507)\n",
      "Traceback (most recent call last):\n",
      "  File \"C:\\Users\\ABUTON\\Desktop\\spark\\spark-2.4.4-bin-hadoop2.7\\python\\lib\\py4j-0.10.7-src.zip\\py4j\\java_gateway.py\", line 929, in _get_connection\n",
      "    connection = self.deque.pop()\n",
      "IndexError: pop from an empty deque\n",
      "\n",
      "During handling of the above exception, another exception occurred:\n",
      "\n",
      "Traceback (most recent call last):\n",
      "  File \"C:\\Users\\ABUTON\\Desktop\\spark\\spark-2.4.4-bin-hadoop2.7\\python\\lib\\py4j-0.10.7-src.zip\\py4j\\java_gateway.py\", line 1067, in start\n",
      "    self.socket.connect((self.address, self.port))\n",
      "ConnectionRefusedError: [WinError 10061] No connection could be made because the target machine actively refused it\n",
      "ERROR:py4j.java_gateway:An error occurred while trying to connect to the Java server (127.0.0.1:49507)\n",
      "Traceback (most recent call last):\n",
      "  File \"C:\\Users\\ABUTON\\Desktop\\spark\\spark-2.4.4-bin-hadoop2.7\\python\\lib\\py4j-0.10.7-src.zip\\py4j\\java_gateway.py\", line 929, in _get_connection\n",
      "    connection = self.deque.pop()\n",
      "IndexError: pop from an empty deque\n",
      "\n",
      "During handling of the above exception, another exception occurred:\n",
      "\n",
      "Traceback (most recent call last):\n",
      "  File \"C:\\Users\\ABUTON\\Desktop\\spark\\spark-2.4.4-bin-hadoop2.7\\python\\lib\\py4j-0.10.7-src.zip\\py4j\\java_gateway.py\", line 1067, in start\n",
      "    self.socket.connect((self.address, self.port))\n",
      "ConnectionRefusedError: [WinError 10061] No connection could be made because the target machine actively refused it\n",
      "ERROR:py4j.java_gateway:An error occurred while trying to connect to the Java server (127.0.0.1:49507)\n",
      "Traceback (most recent call last):\n",
      "  File \"C:\\Users\\ABUTON\\Desktop\\spark\\spark-2.4.4-bin-hadoop2.7\\python\\lib\\py4j-0.10.7-src.zip\\py4j\\java_gateway.py\", line 929, in _get_connection\n",
      "    connection = self.deque.pop()\n",
      "IndexError: pop from an empty deque\n",
      "\n",
      "During handling of the above exception, another exception occurred:\n",
      "\n",
      "Traceback (most recent call last):\n",
      "  File \"C:\\Users\\ABUTON\\Desktop\\spark\\spark-2.4.4-bin-hadoop2.7\\python\\lib\\py4j-0.10.7-src.zip\\py4j\\java_gateway.py\", line 1067, in start\n",
      "    self.socket.connect((self.address, self.port))\n",
      "ConnectionRefusedError: [WinError 10061] No connection could be made because the target machine actively refused it\n",
      "ERROR:py4j.java_gateway:An error occurred while trying to connect to the Java server (127.0.0.1:49507)\n",
      "Traceback (most recent call last):\n",
      "  File \"C:\\Users\\ABUTON\\Desktop\\spark\\spark-2.4.4-bin-hadoop2.7\\python\\lib\\py4j-0.10.7-src.zip\\py4j\\java_gateway.py\", line 929, in _get_connection\n",
      "    connection = self.deque.pop()\n",
      "IndexError: pop from an empty deque\n",
      "\n",
      "During handling of the above exception, another exception occurred:\n",
      "\n",
      "Traceback (most recent call last):\n",
      "  File \"C:\\Users\\ABUTON\\Desktop\\spark\\spark-2.4.4-bin-hadoop2.7\\python\\lib\\py4j-0.10.7-src.zip\\py4j\\java_gateway.py\", line 1067, in start\n",
      "    self.socket.connect((self.address, self.port))\n",
      "ConnectionRefusedError: [WinError 10061] No connection could be made because the target machine actively refused it\n",
      "ERROR:py4j.java_gateway:An error occurred while trying to connect to the Java server (127.0.0.1:49507)\n",
      "Traceback (most recent call last):\n",
      "  File \"C:\\Users\\ABUTON\\Desktop\\spark\\spark-2.4.4-bin-hadoop2.7\\python\\lib\\py4j-0.10.7-src.zip\\py4j\\java_gateway.py\", line 929, in _get_connection\n",
      "    connection = self.deque.pop()\n",
      "IndexError: pop from an empty deque\n",
      "\n",
      "During handling of the above exception, another exception occurred:\n",
      "\n",
      "Traceback (most recent call last):\n",
      "  File \"C:\\Users\\ABUTON\\Desktop\\spark\\spark-2.4.4-bin-hadoop2.7\\python\\lib\\py4j-0.10.7-src.zip\\py4j\\java_gateway.py\", line 1067, in start\n",
      "    self.socket.connect((self.address, self.port))\n",
      "ConnectionRefusedError: [WinError 10061] No connection could be made because the target machine actively refused it\n"
     ]
    },
    {
     "name": "stderr",
     "output_type": "stream",
     "text": [
      "ERROR:py4j.java_gateway:An error occurred while trying to connect to the Java server (127.0.0.1:49507)\n",
      "Traceback (most recent call last):\n",
      "  File \"C:\\Users\\ABUTON\\Desktop\\spark\\spark-2.4.4-bin-hadoop2.7\\python\\lib\\py4j-0.10.7-src.zip\\py4j\\java_gateway.py\", line 929, in _get_connection\n",
      "    connection = self.deque.pop()\n",
      "IndexError: pop from an empty deque\n",
      "\n",
      "During handling of the above exception, another exception occurred:\n",
      "\n",
      "Traceback (most recent call last):\n",
      "  File \"C:\\Users\\ABUTON\\Desktop\\spark\\spark-2.4.4-bin-hadoop2.7\\python\\lib\\py4j-0.10.7-src.zip\\py4j\\java_gateway.py\", line 1067, in start\n",
      "    self.socket.connect((self.address, self.port))\n",
      "ConnectionRefusedError: [WinError 10061] No connection could be made because the target machine actively refused it\n",
      "ERROR:py4j.java_gateway:An error occurred while trying to connect to the Java server (127.0.0.1:49507)\n",
      "Traceback (most recent call last):\n",
      "  File \"C:\\Users\\ABUTON\\Desktop\\spark\\spark-2.4.4-bin-hadoop2.7\\python\\lib\\py4j-0.10.7-src.zip\\py4j\\java_gateway.py\", line 929, in _get_connection\n",
      "    connection = self.deque.pop()\n",
      "IndexError: pop from an empty deque\n",
      "\n",
      "During handling of the above exception, another exception occurred:\n",
      "\n",
      "Traceback (most recent call last):\n",
      "  File \"C:\\Users\\ABUTON\\Desktop\\spark\\spark-2.4.4-bin-hadoop2.7\\python\\lib\\py4j-0.10.7-src.zip\\py4j\\java_gateway.py\", line 1067, in start\n",
      "    self.socket.connect((self.address, self.port))\n",
      "ConnectionRefusedError: [WinError 10061] No connection could be made because the target machine actively refused it\n",
      "ERROR:py4j.java_gateway:An error occurred while trying to connect to the Java server (127.0.0.1:49507)\n",
      "Traceback (most recent call last):\n",
      "  File \"C:\\Users\\ABUTON\\Desktop\\spark\\spark-2.4.4-bin-hadoop2.7\\python\\lib\\py4j-0.10.7-src.zip\\py4j\\java_gateway.py\", line 929, in _get_connection\n",
      "    connection = self.deque.pop()\n",
      "IndexError: pop from an empty deque\n",
      "\n",
      "During handling of the above exception, another exception occurred:\n",
      "\n",
      "Traceback (most recent call last):\n",
      "  File \"C:\\Users\\ABUTON\\Desktop\\spark\\spark-2.4.4-bin-hadoop2.7\\python\\lib\\py4j-0.10.7-src.zip\\py4j\\java_gateway.py\", line 1067, in start\n",
      "    self.socket.connect((self.address, self.port))\n",
      "ConnectionRefusedError: [WinError 10061] No connection could be made because the target machine actively refused it\n",
      "ERROR:py4j.java_gateway:An error occurred while trying to connect to the Java server (127.0.0.1:49507)\n",
      "Traceback (most recent call last):\n",
      "  File \"C:\\Users\\ABUTON\\Desktop\\spark\\spark-2.4.4-bin-hadoop2.7\\python\\lib\\py4j-0.10.7-src.zip\\py4j\\java_gateway.py\", line 929, in _get_connection\n",
      "    connection = self.deque.pop()\n",
      "IndexError: pop from an empty deque\n",
      "\n",
      "During handling of the above exception, another exception occurred:\n",
      "\n",
      "Traceback (most recent call last):\n",
      "  File \"C:\\Users\\ABUTON\\Desktop\\spark\\spark-2.4.4-bin-hadoop2.7\\python\\lib\\py4j-0.10.7-src.zip\\py4j\\java_gateway.py\", line 1067, in start\n",
      "    self.socket.connect((self.address, self.port))\n",
      "ConnectionRefusedError: [WinError 10061] No connection could be made because the target machine actively refused it\n",
      "ERROR:py4j.java_gateway:An error occurred while trying to connect to the Java server (127.0.0.1:49507)\n",
      "Traceback (most recent call last):\n",
      "  File \"C:\\Users\\ABUTON\\Desktop\\spark\\spark-2.4.4-bin-hadoop2.7\\python\\lib\\py4j-0.10.7-src.zip\\py4j\\java_gateway.py\", line 929, in _get_connection\n",
      "    connection = self.deque.pop()\n",
      "IndexError: pop from an empty deque\n",
      "\n",
      "During handling of the above exception, another exception occurred:\n",
      "\n",
      "Traceback (most recent call last):\n",
      "  File \"C:\\Users\\ABUTON\\Desktop\\spark\\spark-2.4.4-bin-hadoop2.7\\python\\lib\\py4j-0.10.7-src.zip\\py4j\\java_gateway.py\", line 1067, in start\n",
      "    self.socket.connect((self.address, self.port))\n",
      "ConnectionRefusedError: [WinError 10061] No connection could be made because the target machine actively refused it\n",
      "ERROR:py4j.java_gateway:An error occurred while trying to connect to the Java server (127.0.0.1:49507)\n",
      "Traceback (most recent call last):\n",
      "  File \"C:\\Users\\ABUTON\\Desktop\\spark\\spark-2.4.4-bin-hadoop2.7\\python\\lib\\py4j-0.10.7-src.zip\\py4j\\java_gateway.py\", line 929, in _get_connection\n",
      "    connection = self.deque.pop()\n",
      "IndexError: pop from an empty deque\n",
      "\n",
      "During handling of the above exception, another exception occurred:\n",
      "\n",
      "Traceback (most recent call last):\n",
      "  File \"C:\\Users\\ABUTON\\Desktop\\spark\\spark-2.4.4-bin-hadoop2.7\\python\\lib\\py4j-0.10.7-src.zip\\py4j\\java_gateway.py\", line 1067, in start\n",
      "    self.socket.connect((self.address, self.port))\n",
      "ConnectionRefusedError: [WinError 10061] No connection could be made because the target machine actively refused it\n",
      "ERROR:py4j.java_gateway:An error occurred while trying to connect to the Java server (127.0.0.1:49507)\n",
      "Traceback (most recent call last):\n",
      "  File \"C:\\Users\\ABUTON\\Desktop\\spark\\spark-2.4.4-bin-hadoop2.7\\python\\lib\\py4j-0.10.7-src.zip\\py4j\\java_gateway.py\", line 929, in _get_connection\n",
      "    connection = self.deque.pop()\n",
      "IndexError: pop from an empty deque\n",
      "\n",
      "During handling of the above exception, another exception occurred:\n",
      "\n",
      "Traceback (most recent call last):\n",
      "  File \"C:\\Users\\ABUTON\\Desktop\\spark\\spark-2.4.4-bin-hadoop2.7\\python\\lib\\py4j-0.10.7-src.zip\\py4j\\java_gateway.py\", line 1067, in start\n",
      "    self.socket.connect((self.address, self.port))\n",
      "ConnectionRefusedError: [WinError 10061] No connection could be made because the target machine actively refused it\n",
      "ERROR:py4j.java_gateway:An error occurred while trying to connect to the Java server (127.0.0.1:49507)\n",
      "Traceback (most recent call last):\n",
      "  File \"C:\\Users\\ABUTON\\Desktop\\spark\\spark-2.4.4-bin-hadoop2.7\\python\\lib\\py4j-0.10.7-src.zip\\py4j\\java_gateway.py\", line 929, in _get_connection\n",
      "    connection = self.deque.pop()\n",
      "IndexError: pop from an empty deque\n",
      "\n",
      "During handling of the above exception, another exception occurred:\n",
      "\n",
      "Traceback (most recent call last):\n",
      "  File \"C:\\Users\\ABUTON\\Desktop\\spark\\spark-2.4.4-bin-hadoop2.7\\python\\lib\\py4j-0.10.7-src.zip\\py4j\\java_gateway.py\", line 1067, in start\n",
      "    self.socket.connect((self.address, self.port))\n",
      "ConnectionRefusedError: [WinError 10061] No connection could be made because the target machine actively refused it\n",
      "ERROR:py4j.java_gateway:An error occurred while trying to connect to the Java server (127.0.0.1:49507)\n",
      "Traceback (most recent call last):\n",
      "  File \"C:\\Users\\ABUTON\\Desktop\\spark\\spark-2.4.4-bin-hadoop2.7\\python\\lib\\py4j-0.10.7-src.zip\\py4j\\java_gateway.py\", line 929, in _get_connection\n",
      "    connection = self.deque.pop()\n",
      "IndexError: pop from an empty deque\n",
      "\n",
      "During handling of the above exception, another exception occurred:\n",
      "\n",
      "Traceback (most recent call last):\n",
      "  File \"C:\\Users\\ABUTON\\Desktop\\spark\\spark-2.4.4-bin-hadoop2.7\\python\\lib\\py4j-0.10.7-src.zip\\py4j\\java_gateway.py\", line 1067, in start\n",
      "    self.socket.connect((self.address, self.port))\n",
      "ConnectionRefusedError: [WinError 10061] No connection could be made because the target machine actively refused it\n",
      "ERROR:py4j.java_gateway:An error occurred while trying to connect to the Java server (127.0.0.1:49507)\n",
      "Traceback (most recent call last):\n",
      "  File \"C:\\Users\\ABUTON\\Desktop\\spark\\spark-2.4.4-bin-hadoop2.7\\python\\lib\\py4j-0.10.7-src.zip\\py4j\\java_gateway.py\", line 929, in _get_connection\n",
      "    connection = self.deque.pop()\n",
      "IndexError: pop from an empty deque\n",
      "\n",
      "During handling of the above exception, another exception occurred:\n",
      "\n",
      "Traceback (most recent call last):\n",
      "  File \"C:\\Users\\ABUTON\\Desktop\\spark\\spark-2.4.4-bin-hadoop2.7\\python\\lib\\py4j-0.10.7-src.zip\\py4j\\java_gateway.py\", line 1067, in start\n",
      "    self.socket.connect((self.address, self.port))\n",
      "ConnectionRefusedError: [WinError 10061] No connection could be made because the target machine actively refused it\n",
      "ERROR:py4j.java_gateway:An error occurred while trying to connect to the Java server (127.0.0.1:49507)\n",
      "Traceback (most recent call last):\n",
      "  File \"C:\\Users\\ABUTON\\Desktop\\spark\\spark-2.4.4-bin-hadoop2.7\\python\\lib\\py4j-0.10.7-src.zip\\py4j\\java_gateway.py\", line 929, in _get_connection\n",
      "    connection = self.deque.pop()\n",
      "IndexError: pop from an empty deque\n",
      "\n",
      "During handling of the above exception, another exception occurred:\n",
      "\n",
      "Traceback (most recent call last):\n",
      "  File \"C:\\Users\\ABUTON\\Desktop\\spark\\spark-2.4.4-bin-hadoop2.7\\python\\lib\\py4j-0.10.7-src.zip\\py4j\\java_gateway.py\", line 1067, in start\n",
      "    self.socket.connect((self.address, self.port))\n",
      "ConnectionRefusedError: [WinError 10061] No connection could be made because the target machine actively refused it\n"
     ]
    },
    {
     "name": "stderr",
     "output_type": "stream",
     "text": [
      "ERROR:py4j.java_gateway:An error occurred while trying to connect to the Java server (127.0.0.1:49507)\n",
      "Traceback (most recent call last):\n",
      "  File \"C:\\Users\\ABUTON\\Desktop\\spark\\spark-2.4.4-bin-hadoop2.7\\python\\lib\\py4j-0.10.7-src.zip\\py4j\\java_gateway.py\", line 929, in _get_connection\n",
      "    connection = self.deque.pop()\n",
      "IndexError: pop from an empty deque\n",
      "\n",
      "During handling of the above exception, another exception occurred:\n",
      "\n",
      "Traceback (most recent call last):\n",
      "  File \"C:\\Users\\ABUTON\\Desktop\\spark\\spark-2.4.4-bin-hadoop2.7\\python\\lib\\py4j-0.10.7-src.zip\\py4j\\java_gateway.py\", line 1067, in start\n",
      "    self.socket.connect((self.address, self.port))\n",
      "ConnectionRefusedError: [WinError 10061] No connection could be made because the target machine actively refused it\n",
      "ERROR:py4j.java_gateway:An error occurred while trying to connect to the Java server (127.0.0.1:49507)\n",
      "Traceback (most recent call last):\n",
      "  File \"C:\\Users\\ABUTON\\Desktop\\spark\\spark-2.4.4-bin-hadoop2.7\\python\\lib\\py4j-0.10.7-src.zip\\py4j\\java_gateway.py\", line 929, in _get_connection\n",
      "    connection = self.deque.pop()\n",
      "IndexError: pop from an empty deque\n",
      "\n",
      "During handling of the above exception, another exception occurred:\n",
      "\n",
      "Traceback (most recent call last):\n",
      "  File \"C:\\Users\\ABUTON\\Desktop\\spark\\spark-2.4.4-bin-hadoop2.7\\python\\lib\\py4j-0.10.7-src.zip\\py4j\\java_gateway.py\", line 1067, in start\n",
      "    self.socket.connect((self.address, self.port))\n",
      "ConnectionRefusedError: [WinError 10061] No connection could be made because the target machine actively refused it\n",
      "ERROR:py4j.java_gateway:An error occurred while trying to connect to the Java server (127.0.0.1:49507)\n",
      "Traceback (most recent call last):\n",
      "  File \"C:\\Users\\ABUTON\\Desktop\\spark\\spark-2.4.4-bin-hadoop2.7\\python\\lib\\py4j-0.10.7-src.zip\\py4j\\java_gateway.py\", line 929, in _get_connection\n",
      "    connection = self.deque.pop()\n",
      "IndexError: pop from an empty deque\n",
      "\n",
      "During handling of the above exception, another exception occurred:\n",
      "\n",
      "Traceback (most recent call last):\n",
      "  File \"C:\\Users\\ABUTON\\Desktop\\spark\\spark-2.4.4-bin-hadoop2.7\\python\\lib\\py4j-0.10.7-src.zip\\py4j\\java_gateway.py\", line 1067, in start\n",
      "    self.socket.connect((self.address, self.port))\n",
      "ConnectionRefusedError: [WinError 10061] No connection could be made because the target machine actively refused it\n",
      "ERROR:py4j.java_gateway:An error occurred while trying to connect to the Java server (127.0.0.1:49507)\n",
      "Traceback (most recent call last):\n",
      "  File \"C:\\Users\\ABUTON\\Desktop\\spark\\spark-2.4.4-bin-hadoop2.7\\python\\lib\\py4j-0.10.7-src.zip\\py4j\\java_gateway.py\", line 929, in _get_connection\n",
      "    connection = self.deque.pop()\n",
      "IndexError: pop from an empty deque\n",
      "\n",
      "During handling of the above exception, another exception occurred:\n",
      "\n",
      "Traceback (most recent call last):\n",
      "  File \"C:\\Users\\ABUTON\\Desktop\\spark\\spark-2.4.4-bin-hadoop2.7\\python\\lib\\py4j-0.10.7-src.zip\\py4j\\java_gateway.py\", line 1067, in start\n",
      "    self.socket.connect((self.address, self.port))\n",
      "ConnectionRefusedError: [WinError 10061] No connection could be made because the target machine actively refused it\n",
      "ERROR:py4j.java_gateway:An error occurred while trying to connect to the Java server (127.0.0.1:49507)\n",
      "Traceback (most recent call last):\n",
      "  File \"C:\\Users\\ABUTON\\Desktop\\spark\\spark-2.4.4-bin-hadoop2.7\\python\\lib\\py4j-0.10.7-src.zip\\py4j\\java_gateway.py\", line 929, in _get_connection\n",
      "    connection = self.deque.pop()\n",
      "IndexError: pop from an empty deque\n",
      "\n",
      "During handling of the above exception, another exception occurred:\n",
      "\n",
      "Traceback (most recent call last):\n",
      "  File \"C:\\Users\\ABUTON\\Desktop\\spark\\spark-2.4.4-bin-hadoop2.7\\python\\lib\\py4j-0.10.7-src.zip\\py4j\\java_gateway.py\", line 1067, in start\n",
      "    self.socket.connect((self.address, self.port))\n",
      "ConnectionRefusedError: [WinError 10061] No connection could be made because the target machine actively refused it\n",
      "ERROR:py4j.java_gateway:An error occurred while trying to connect to the Java server (127.0.0.1:49507)\n",
      "Traceback (most recent call last):\n",
      "  File \"C:\\Users\\ABUTON\\Desktop\\spark\\spark-2.4.4-bin-hadoop2.7\\python\\lib\\py4j-0.10.7-src.zip\\py4j\\java_gateway.py\", line 929, in _get_connection\n",
      "    connection = self.deque.pop()\n",
      "IndexError: pop from an empty deque\n",
      "\n",
      "During handling of the above exception, another exception occurred:\n",
      "\n",
      "Traceback (most recent call last):\n",
      "  File \"C:\\Users\\ABUTON\\Desktop\\spark\\spark-2.4.4-bin-hadoop2.7\\python\\lib\\py4j-0.10.7-src.zip\\py4j\\java_gateway.py\", line 1067, in start\n",
      "    self.socket.connect((self.address, self.port))\n",
      "ConnectionRefusedError: [WinError 10061] No connection could be made because the target machine actively refused it\n",
      "ERROR:py4j.java_gateway:An error occurred while trying to connect to the Java server (127.0.0.1:49507)\n",
      "Traceback (most recent call last):\n",
      "  File \"C:\\Users\\ABUTON\\Desktop\\spark\\spark-2.4.4-bin-hadoop2.7\\python\\lib\\py4j-0.10.7-src.zip\\py4j\\java_gateway.py\", line 929, in _get_connection\n",
      "    connection = self.deque.pop()\n",
      "IndexError: pop from an empty deque\n",
      "\n",
      "During handling of the above exception, another exception occurred:\n",
      "\n",
      "Traceback (most recent call last):\n",
      "  File \"C:\\Users\\ABUTON\\Desktop\\spark\\spark-2.4.4-bin-hadoop2.7\\python\\lib\\py4j-0.10.7-src.zip\\py4j\\java_gateway.py\", line 1067, in start\n",
      "    self.socket.connect((self.address, self.port))\n",
      "ConnectionRefusedError: [WinError 10061] No connection could be made because the target machine actively refused it\n",
      "ERROR:py4j.java_gateway:An error occurred while trying to connect to the Java server (127.0.0.1:49507)\n",
      "Traceback (most recent call last):\n",
      "  File \"C:\\Users\\ABUTON\\Desktop\\spark\\spark-2.4.4-bin-hadoop2.7\\python\\lib\\py4j-0.10.7-src.zip\\py4j\\java_gateway.py\", line 929, in _get_connection\n",
      "    connection = self.deque.pop()\n",
      "IndexError: pop from an empty deque\n",
      "\n",
      "During handling of the above exception, another exception occurred:\n",
      "\n",
      "Traceback (most recent call last):\n",
      "  File \"C:\\Users\\ABUTON\\Desktop\\spark\\spark-2.4.4-bin-hadoop2.7\\python\\lib\\py4j-0.10.7-src.zip\\py4j\\java_gateway.py\", line 1067, in start\n",
      "    self.socket.connect((self.address, self.port))\n",
      "ConnectionRefusedError: [WinError 10061] No connection could be made because the target machine actively refused it\n"
     ]
    }
   ],
   "source": [
    "def classification_metrics(prediction):\n",
    "    from pyspark.ml.evaluation import MulticlassClassificationEvaluator\n",
    "    mcEval = MulticlassClassificationEvaluator().setMetricName(\"accuracy\") .setPredictionCol(\"prediction\").setLabelCol(\"HOURLYWindDirectionBucketized\")\n",
    "    accuracy = mcEval.evaluate(prediction)\n",
    "    print(\"Accuracy on test data = %g\" % accuracy)"
   ]
  },
  {
   "cell_type": "code",
   "execution_count": null,
   "metadata": {},
   "outputs": [],
   "source": []
  }
 ],
 "metadata": {
  "kernelspec": {
   "display_name": "Python 3",
   "language": "python",
   "name": "python3"
  },
  "language_info": {
   "codemirror_mode": {
    "name": "ipython",
    "version": 3
   },
   "file_extension": ".py",
   "mimetype": "text/x-python",
   "name": "python",
   "nbconvert_exporter": "python",
   "pygments_lexer": "ipython3",
   "version": "3.7.4"
  }
 },
 "nbformat": 4,
 "nbformat_minor": 4
}
